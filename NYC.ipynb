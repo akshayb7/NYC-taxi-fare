{
 "cells": [
  {
   "cell_type": "code",
   "execution_count": 1,
   "metadata": {},
   "outputs": [],
   "source": [
    "# Importing libraries\n",
    "from fastai.imports import *\n",
    "from fastai.structured import *\n",
    "\n",
    "from sklearn.ensemble import RandomForestRegressor\n",
    "from sklearn.model_selection import train_test_split, StratifiedShuffleSplit\n",
    "\n",
    "from IPython.display import display\n",
    "\n",
    "import os"
   ]
  },
  {
   "cell_type": "code",
   "execution_count": 2,
   "metadata": {},
   "outputs": [],
   "source": [
    "PATH = 'data'\n",
    "\n",
    "types = {'fare_amount':'float32',\n",
    "        'pickup_longitude':'float32',\n",
    "        'pickup_latitude':'float32',\n",
    "        'dropoff_longitude':'float32',\n",
    "        'dropoff_latitude':'float32',\n",
    "        'passenger_count':'int32',\n",
    "         'pickup_datetime':'object'\n",
    "        }\n",
    "cols_to_use = ['fare_amount','pickup_datetime','pickup_longitude','pickup_latitude','dropoff_longitude','dropoff_latitude','passenger_count']"
   ]
  },
  {
   "cell_type": "code",
   "execution_count": 3,
   "metadata": {},
   "outputs": [
    {
     "name": "stdout",
     "output_type": "stream",
     "text": [
      "Wall time: 22.8 s\n"
     ]
    }
   ],
   "source": [
    "# Importing data\n",
    "\n",
    "%time df_raw = pd.read_csv(f'{PATH}/train.csv', nrows=12000000,usecols=cols_to_use, dtype = types)"
   ]
  },
  {
   "cell_type": "code",
   "execution_count": 4,
   "metadata": {
    "scrolled": false
   },
   "outputs": [
    {
     "name": "stdout",
     "output_type": "stream",
     "text": [
      "<class 'pandas.core.frame.DataFrame'>\n",
      "RangeIndex: 12000000 entries, 0 to 11999999\n",
      "Data columns (total 7 columns):\n",
      "fare_amount          float32\n",
      "pickup_datetime      object\n",
      "pickup_longitude     float32\n",
      "pickup_latitude      float32\n",
      "dropoff_longitude    float32\n",
      "dropoff_latitude     float32\n",
      "passenger_count      int32\n",
      "dtypes: float32(5), int32(1), object(1)\n",
      "memory usage: 366.2+ MB\n"
     ]
    }
   ],
   "source": [
    "df_raw.info()"
   ]
  },
  {
   "cell_type": "code",
   "execution_count": 5,
   "metadata": {},
   "outputs": [],
   "source": [
    "# Function to set display options\n",
    "def display_all(df):\n",
    "    with pd.option_context('display.max_rows',1000):\n",
    "        with pd.option_context('display.max_columns',1000):\n",
    "            display(df)"
   ]
  },
  {
   "cell_type": "markdown",
   "metadata": {},
   "source": [
    "## Exploration"
   ]
  },
  {
   "cell_type": "code",
   "execution_count": 6,
   "metadata": {},
   "outputs": [
    {
     "data": {
      "text/html": [
       "<div>\n",
       "<style scoped>\n",
       "    .dataframe tbody tr th:only-of-type {\n",
       "        vertical-align: middle;\n",
       "    }\n",
       "\n",
       "    .dataframe tbody tr th {\n",
       "        vertical-align: top;\n",
       "    }\n",
       "\n",
       "    .dataframe thead th {\n",
       "        text-align: right;\n",
       "    }\n",
       "</style>\n",
       "<table border=\"1\" class=\"dataframe\">\n",
       "  <thead>\n",
       "    <tr style=\"text-align: right;\">\n",
       "      <th></th>\n",
       "      <th>fare_amount</th>\n",
       "      <th>pickup_longitude</th>\n",
       "      <th>pickup_latitude</th>\n",
       "      <th>dropoff_longitude</th>\n",
       "      <th>dropoff_latitude</th>\n",
       "      <th>passenger_count</th>\n",
       "    </tr>\n",
       "  </thead>\n",
       "  <tbody>\n",
       "    <tr>\n",
       "      <th>count</th>\n",
       "      <td>1.200000e+07</td>\n",
       "      <td>1.200000e+07</td>\n",
       "      <td>1.200000e+07</td>\n",
       "      <td>1.199992e+07</td>\n",
       "      <td>1.199992e+07</td>\n",
       "      <td>1.200000e+07</td>\n",
       "    </tr>\n",
       "    <tr>\n",
       "      <th>mean</th>\n",
       "      <td>1.133842e+01</td>\n",
       "      <td>-7.251044e+01</td>\n",
       "      <td>3.991973e+01</td>\n",
       "      <td>-7.251036e+01</td>\n",
       "      <td>3.992025e+01</td>\n",
       "      <td>1.684948e+00</td>\n",
       "    </tr>\n",
       "    <tr>\n",
       "      <th>std</th>\n",
       "      <td>9.797611e+00</td>\n",
       "      <td>1.291242e+01</td>\n",
       "      <td>9.262699e+00</td>\n",
       "      <td>1.277134e+01</td>\n",
       "      <td>9.347701e+00</td>\n",
       "      <td>1.325028e+00</td>\n",
       "    </tr>\n",
       "    <tr>\n",
       "      <th>min</th>\n",
       "      <td>-1.077500e+02</td>\n",
       "      <td>-3.439245e+03</td>\n",
       "      <td>-3.492264e+03</td>\n",
       "      <td>-3.426601e+03</td>\n",
       "      <td>-3.488080e+03</td>\n",
       "      <td>0.000000e+00</td>\n",
       "    </tr>\n",
       "    <tr>\n",
       "      <th>25%</th>\n",
       "      <td>6.000000e+00</td>\n",
       "      <td>-7.399207e+01</td>\n",
       "      <td>4.073491e+01</td>\n",
       "      <td>-7.399139e+01</td>\n",
       "      <td>4.073404e+01</td>\n",
       "      <td>1.000000e+00</td>\n",
       "    </tr>\n",
       "    <tr>\n",
       "      <th>50%</th>\n",
       "      <td>8.500000e+00</td>\n",
       "      <td>-7.398181e+01</td>\n",
       "      <td>4.075264e+01</td>\n",
       "      <td>-7.398015e+01</td>\n",
       "      <td>4.075316e+01</td>\n",
       "      <td>1.000000e+00</td>\n",
       "    </tr>\n",
       "    <tr>\n",
       "      <th>75%</th>\n",
       "      <td>1.250000e+01</td>\n",
       "      <td>-7.396709e+01</td>\n",
       "      <td>4.076712e+01</td>\n",
       "      <td>-7.396368e+01</td>\n",
       "      <td>4.076810e+01</td>\n",
       "      <td>2.000000e+00</td>\n",
       "    </tr>\n",
       "    <tr>\n",
       "      <th>max</th>\n",
       "      <td>1.273310e+03</td>\n",
       "      <td>3.457626e+03</td>\n",
       "      <td>3.344459e+03</td>\n",
       "      <td>3.457622e+03</td>\n",
       "      <td>3.400392e+03</td>\n",
       "      <td>2.080000e+02</td>\n",
       "    </tr>\n",
       "  </tbody>\n",
       "</table>\n",
       "</div>"
      ],
      "text/plain": [
       "        fare_amount  pickup_longitude  pickup_latitude  dropoff_longitude  \\\n",
       "count  1.200000e+07      1.200000e+07     1.200000e+07       1.199992e+07   \n",
       "mean   1.133842e+01     -7.251044e+01     3.991973e+01      -7.251036e+01   \n",
       "std    9.797611e+00      1.291242e+01     9.262699e+00       1.277134e+01   \n",
       "min   -1.077500e+02     -3.439245e+03    -3.492264e+03      -3.426601e+03   \n",
       "25%    6.000000e+00     -7.399207e+01     4.073491e+01      -7.399139e+01   \n",
       "50%    8.500000e+00     -7.398181e+01     4.075264e+01      -7.398015e+01   \n",
       "75%    1.250000e+01     -7.396709e+01     4.076712e+01      -7.396368e+01   \n",
       "max    1.273310e+03      3.457626e+03     3.344459e+03       3.457622e+03   \n",
       "\n",
       "       dropoff_latitude  passenger_count  \n",
       "count      1.199992e+07     1.200000e+07  \n",
       "mean       3.992025e+01     1.684948e+00  \n",
       "std        9.347701e+00     1.325028e+00  \n",
       "min       -3.488080e+03     0.000000e+00  \n",
       "25%        4.073404e+01     1.000000e+00  \n",
       "50%        4.075316e+01     1.000000e+00  \n",
       "75%        4.076810e+01     2.000000e+00  \n",
       "max        3.400392e+03     2.080000e+02  "
      ]
     },
     "execution_count": 6,
     "metadata": {},
     "output_type": "execute_result"
    }
   ],
   "source": [
    "df_raw.describe()"
   ]
  },
  {
   "cell_type": "markdown",
   "metadata": {},
   "source": [
    "Remove null values."
   ]
  },
  {
   "cell_type": "code",
   "execution_count": 7,
   "metadata": {},
   "outputs": [
    {
     "data": {
      "text/plain": [
       "fare_amount           0\n",
       "pickup_datetime       0\n",
       "pickup_longitude      0\n",
       "pickup_latitude       0\n",
       "dropoff_longitude    79\n",
       "dropoff_latitude     79\n",
       "passenger_count       0\n",
       "dtype: int64"
      ]
     },
     "execution_count": 7,
     "metadata": {},
     "output_type": "execute_result"
    }
   ],
   "source": [
    "df_raw.isnull().sum()"
   ]
  },
  {
   "cell_type": "code",
   "execution_count": 8,
   "metadata": {},
   "outputs": [],
   "source": [
    "df_raw.dropna(axis=0, how='any', inplace=True)"
   ]
  },
  {
   "cell_type": "markdown",
   "metadata": {},
   "source": [
    "Remove rows with no fare_amount"
   ]
  },
  {
   "cell_type": "code",
   "execution_count": 9,
   "metadata": {},
   "outputs": [],
   "source": [
    "df_raw = df_raw[df_raw.fare_amount>=0]"
   ]
  },
  {
   "cell_type": "markdown",
   "metadata": {},
   "source": [
    "Let's look at the passenger_count feature."
   ]
  },
  {
   "cell_type": "code",
   "execution_count": 10,
   "metadata": {},
   "outputs": [
    {
     "data": {
      "text/plain": [
       "array([  1,   2,   3,   6,   5,   4,   0, 208,   9, 129,   7,  51,  49,   8], dtype=int64)"
      ]
     },
     "execution_count": 10,
     "metadata": {},
     "output_type": "execute_result"
    }
   ],
   "source": [
    "df_raw.passenger_count.unique()"
   ]
  },
  {
   "cell_type": "code",
   "execution_count": 11,
   "metadata": {},
   "outputs": [
    {
     "data": {
      "text/plain": [
       "208    12\n",
       "49      1\n",
       "51      1\n",
       "129     1\n",
       "Name: passenger_count, dtype: int64"
      ]
     },
     "execution_count": 11,
     "metadata": {},
     "output_type": "execute_result"
    }
   ],
   "source": [
    "df_raw[df_raw.passenger_count>10].passenger_count.value_counts()"
   ]
  },
  {
   "cell_type": "code",
   "execution_count": 12,
   "metadata": {},
   "outputs": [
    {
     "data": {
      "text/html": [
       "<div>\n",
       "<style scoped>\n",
       "    .dataframe tbody tr th:only-of-type {\n",
       "        vertical-align: middle;\n",
       "    }\n",
       "\n",
       "    .dataframe tbody tr th {\n",
       "        vertical-align: top;\n",
       "    }\n",
       "\n",
       "    .dataframe thead th {\n",
       "        text-align: right;\n",
       "    }\n",
       "</style>\n",
       "<table border=\"1\" class=\"dataframe\">\n",
       "  <thead>\n",
       "    <tr style=\"text-align: right;\">\n",
       "      <th></th>\n",
       "      <th>fare_amount</th>\n",
       "      <th>pickup_longitude</th>\n",
       "      <th>pickup_latitude</th>\n",
       "      <th>dropoff_longitude</th>\n",
       "      <th>dropoff_latitude</th>\n",
       "    </tr>\n",
       "    <tr>\n",
       "      <th>passenger_count</th>\n",
       "      <th></th>\n",
       "      <th></th>\n",
       "      <th></th>\n",
       "      <th></th>\n",
       "      <th></th>\n",
       "    </tr>\n",
       "  </thead>\n",
       "  <tbody>\n",
       "    <tr>\n",
       "      <th>0</th>\n",
       "      <td>8.995379</td>\n",
       "      <td>-72.725739</td>\n",
       "      <td>40.062950</td>\n",
       "      <td>-72.679443</td>\n",
       "      <td>40.038246</td>\n",
       "    </tr>\n",
       "    <tr>\n",
       "      <th>1</th>\n",
       "      <td>11.211963</td>\n",
       "      <td>-72.496880</td>\n",
       "      <td>39.916065</td>\n",
       "      <td>-72.494614</td>\n",
       "      <td>39.914429</td>\n",
       "    </tr>\n",
       "    <tr>\n",
       "      <th>2</th>\n",
       "      <td>11.818702</td>\n",
       "      <td>-72.589211</td>\n",
       "      <td>39.961147</td>\n",
       "      <td>-72.601791</td>\n",
       "      <td>39.971985</td>\n",
       "    </tr>\n",
       "    <tr>\n",
       "      <th>3</th>\n",
       "      <td>11.537989</td>\n",
       "      <td>-72.568428</td>\n",
       "      <td>39.952335</td>\n",
       "      <td>-72.594856</td>\n",
       "      <td>39.969280</td>\n",
       "    </tr>\n",
       "    <tr>\n",
       "      <th>4</th>\n",
       "      <td>11.772282</td>\n",
       "      <td>-72.603424</td>\n",
       "      <td>39.965912</td>\n",
       "      <td>-72.629303</td>\n",
       "      <td>39.983978</td>\n",
       "    </tr>\n",
       "    <tr>\n",
       "      <th>5</th>\n",
       "      <td>11.214808</td>\n",
       "      <td>-72.403519</td>\n",
       "      <td>39.840759</td>\n",
       "      <td>-72.389893</td>\n",
       "      <td>39.839211</td>\n",
       "    </tr>\n",
       "    <tr>\n",
       "      <th>6</th>\n",
       "      <td>12.112725</td>\n",
       "      <td>-72.526314</td>\n",
       "      <td>39.883556</td>\n",
       "      <td>-72.469566</td>\n",
       "      <td>39.841652</td>\n",
       "    </tr>\n",
       "    <tr>\n",
       "      <th>7</th>\n",
       "      <td>9.833333</td>\n",
       "      <td>-73.991821</td>\n",
       "      <td>40.739483</td>\n",
       "      <td>-73.985275</td>\n",
       "      <td>40.727016</td>\n",
       "    </tr>\n",
       "    <tr>\n",
       "      <th>8</th>\n",
       "      <td>31.915001</td>\n",
       "      <td>-73.893517</td>\n",
       "      <td>40.708809</td>\n",
       "      <td>-73.997940</td>\n",
       "      <td>40.740963</td>\n",
       "    </tr>\n",
       "    <tr>\n",
       "      <th>9</th>\n",
       "      <td>57.290001</td>\n",
       "      <td>-73.953796</td>\n",
       "      <td>40.747158</td>\n",
       "      <td>-73.997780</td>\n",
       "      <td>40.751263</td>\n",
       "    </tr>\n",
       "    <tr>\n",
       "      <th>49</th>\n",
       "      <td>2.500000</td>\n",
       "      <td>0.000000</td>\n",
       "      <td>0.000000</td>\n",
       "      <td>0.000000</td>\n",
       "      <td>0.000000</td>\n",
       "    </tr>\n",
       "    <tr>\n",
       "      <th>51</th>\n",
       "      <td>9.300000</td>\n",
       "      <td>0.554830</td>\n",
       "      <td>0.000000</td>\n",
       "      <td>-2069.479004</td>\n",
       "      <td>28.121107</td>\n",
       "    </tr>\n",
       "    <tr>\n",
       "      <th>129</th>\n",
       "      <td>8.500000</td>\n",
       "      <td>-73.987862</td>\n",
       "      <td>40.760342</td>\n",
       "      <td>-74.000679</td>\n",
       "      <td>40.752415</td>\n",
       "    </tr>\n",
       "    <tr>\n",
       "      <th>208</th>\n",
       "      <td>8.633333</td>\n",
       "      <td>-28.087196</td>\n",
       "      <td>13.207719</td>\n",
       "      <td>-28.087193</td>\n",
       "      <td>13.207718</td>\n",
       "    </tr>\n",
       "  </tbody>\n",
       "</table>\n",
       "</div>"
      ],
      "text/plain": [
       "                 fare_amount  pickup_longitude  pickup_latitude  \\\n",
       "passenger_count                                                   \n",
       "0                   8.995379        -72.725739        40.062950   \n",
       "1                  11.211963        -72.496880        39.916065   \n",
       "2                  11.818702        -72.589211        39.961147   \n",
       "3                  11.537989        -72.568428        39.952335   \n",
       "4                  11.772282        -72.603424        39.965912   \n",
       "5                  11.214808        -72.403519        39.840759   \n",
       "6                  12.112725        -72.526314        39.883556   \n",
       "7                   9.833333        -73.991821        40.739483   \n",
       "8                  31.915001        -73.893517        40.708809   \n",
       "9                  57.290001        -73.953796        40.747158   \n",
       "49                  2.500000          0.000000         0.000000   \n",
       "51                  9.300000          0.554830         0.000000   \n",
       "129                 8.500000        -73.987862        40.760342   \n",
       "208                 8.633333        -28.087196        13.207719   \n",
       "\n",
       "                 dropoff_longitude  dropoff_latitude  \n",
       "passenger_count                                       \n",
       "0                       -72.679443         40.038246  \n",
       "1                       -72.494614         39.914429  \n",
       "2                       -72.601791         39.971985  \n",
       "3                       -72.594856         39.969280  \n",
       "4                       -72.629303         39.983978  \n",
       "5                       -72.389893         39.839211  \n",
       "6                       -72.469566         39.841652  \n",
       "7                       -73.985275         40.727016  \n",
       "8                       -73.997940         40.740963  \n",
       "9                       -73.997780         40.751263  \n",
       "49                        0.000000          0.000000  \n",
       "51                    -2069.479004         28.121107  \n",
       "129                     -74.000679         40.752415  \n",
       "208                     -28.087193         13.207718  "
      ]
     },
     "execution_count": 12,
     "metadata": {},
     "output_type": "execute_result"
    }
   ],
   "source": [
    "df_raw.groupby(['passenger_count']).mean()"
   ]
  },
  {
   "cell_type": "code",
   "execution_count": 13,
   "metadata": {
    "scrolled": true
   },
   "outputs": [
    {
     "data": {
      "text/plain": [
       "1      8300324\n",
       "2      1771399\n",
       "5       849612\n",
       "3       526940\n",
       "4       254719\n",
       "6       254131\n",
       "0        42279\n",
       "208         12\n",
       "9            3\n",
       "7            3\n",
       "8            2\n",
       "129          1\n",
       "51           1\n",
       "49           1\n",
       "Name: passenger_count, dtype: int64"
      ]
     },
     "execution_count": 13,
     "metadata": {},
     "output_type": "execute_result"
    }
   ],
   "source": [
    "df_raw.passenger_count.value_counts()"
   ]
  },
  {
   "cell_type": "markdown",
   "metadata": {},
   "source": [
    "With so many 0 passenger_values and a non-null fare_amount mean for them, we should not remove the rides with 0 values."
   ]
  },
  {
   "cell_type": "code",
   "execution_count": 14,
   "metadata": {},
   "outputs": [],
   "source": [
    "df_raw = df_raw[df_raw.passenger_count<7]"
   ]
  },
  {
   "cell_type": "markdown",
   "metadata": {},
   "source": [
    "## Feature Engineering"
   ]
  },
  {
   "cell_type": "code",
   "execution_count": 15,
   "metadata": {},
   "outputs": [
    {
     "name": "stdout",
     "output_type": "stream",
     "text": [
      "Wall time: 1min 10s\n"
     ]
    }
   ],
   "source": [
    "%time add_datepart(df_raw,'pickup_datetime',drop=True, time=True)"
   ]
  },
  {
   "cell_type": "code",
   "execution_count": 16,
   "metadata": {},
   "outputs": [
    {
     "data": {
      "text/html": [
       "<div>\n",
       "<style scoped>\n",
       "    .dataframe tbody tr th:only-of-type {\n",
       "        vertical-align: middle;\n",
       "    }\n",
       "\n",
       "    .dataframe tbody tr th {\n",
       "        vertical-align: top;\n",
       "    }\n",
       "\n",
       "    .dataframe thead th {\n",
       "        text-align: right;\n",
       "    }\n",
       "</style>\n",
       "<table border=\"1\" class=\"dataframe\">\n",
       "  <thead>\n",
       "    <tr style=\"text-align: right;\">\n",
       "      <th></th>\n",
       "      <th>0</th>\n",
       "      <th>1</th>\n",
       "      <th>2</th>\n",
       "      <th>3</th>\n",
       "      <th>4</th>\n",
       "    </tr>\n",
       "  </thead>\n",
       "  <tbody>\n",
       "    <tr>\n",
       "      <th>fare_amount</th>\n",
       "      <td>4.5</td>\n",
       "      <td>16.9</td>\n",
       "      <td>5.7</td>\n",
       "      <td>7.7</td>\n",
       "      <td>5.3</td>\n",
       "    </tr>\n",
       "    <tr>\n",
       "      <th>pickup_longitude</th>\n",
       "      <td>-73.8443</td>\n",
       "      <td>-74.016</td>\n",
       "      <td>-73.9827</td>\n",
       "      <td>-73.9871</td>\n",
       "      <td>-73.9681</td>\n",
       "    </tr>\n",
       "    <tr>\n",
       "      <th>pickup_latitude</th>\n",
       "      <td>40.7213</td>\n",
       "      <td>40.7113</td>\n",
       "      <td>40.7613</td>\n",
       "      <td>40.7331</td>\n",
       "      <td>40.768</td>\n",
       "    </tr>\n",
       "    <tr>\n",
       "      <th>dropoff_longitude</th>\n",
       "      <td>-73.8416</td>\n",
       "      <td>-73.9793</td>\n",
       "      <td>-73.9912</td>\n",
       "      <td>-73.9916</td>\n",
       "      <td>-73.9567</td>\n",
       "    </tr>\n",
       "    <tr>\n",
       "      <th>dropoff_latitude</th>\n",
       "      <td>40.7123</td>\n",
       "      <td>40.782</td>\n",
       "      <td>40.7506</td>\n",
       "      <td>40.7581</td>\n",
       "      <td>40.7838</td>\n",
       "    </tr>\n",
       "    <tr>\n",
       "      <th>passenger_count</th>\n",
       "      <td>1</td>\n",
       "      <td>1</td>\n",
       "      <td>2</td>\n",
       "      <td>1</td>\n",
       "      <td>1</td>\n",
       "    </tr>\n",
       "    <tr>\n",
       "      <th>pickup_datetimeYear</th>\n",
       "      <td>2009</td>\n",
       "      <td>2010</td>\n",
       "      <td>2011</td>\n",
       "      <td>2012</td>\n",
       "      <td>2010</td>\n",
       "    </tr>\n",
       "    <tr>\n",
       "      <th>pickup_datetimeMonth</th>\n",
       "      <td>6</td>\n",
       "      <td>1</td>\n",
       "      <td>8</td>\n",
       "      <td>4</td>\n",
       "      <td>3</td>\n",
       "    </tr>\n",
       "    <tr>\n",
       "      <th>pickup_datetimeWeek</th>\n",
       "      <td>25</td>\n",
       "      <td>1</td>\n",
       "      <td>33</td>\n",
       "      <td>16</td>\n",
       "      <td>10</td>\n",
       "    </tr>\n",
       "    <tr>\n",
       "      <th>pickup_datetimeDay</th>\n",
       "      <td>15</td>\n",
       "      <td>5</td>\n",
       "      <td>18</td>\n",
       "      <td>21</td>\n",
       "      <td>9</td>\n",
       "    </tr>\n",
       "    <tr>\n",
       "      <th>pickup_datetimeDayofweek</th>\n",
       "      <td>0</td>\n",
       "      <td>1</td>\n",
       "      <td>3</td>\n",
       "      <td>5</td>\n",
       "      <td>1</td>\n",
       "    </tr>\n",
       "    <tr>\n",
       "      <th>pickup_datetimeDayofyear</th>\n",
       "      <td>166</td>\n",
       "      <td>5</td>\n",
       "      <td>230</td>\n",
       "      <td>112</td>\n",
       "      <td>68</td>\n",
       "    </tr>\n",
       "    <tr>\n",
       "      <th>pickup_datetimeIs_month_end</th>\n",
       "      <td>False</td>\n",
       "      <td>False</td>\n",
       "      <td>False</td>\n",
       "      <td>False</td>\n",
       "      <td>False</td>\n",
       "    </tr>\n",
       "    <tr>\n",
       "      <th>pickup_datetimeIs_month_start</th>\n",
       "      <td>False</td>\n",
       "      <td>False</td>\n",
       "      <td>False</td>\n",
       "      <td>False</td>\n",
       "      <td>False</td>\n",
       "    </tr>\n",
       "    <tr>\n",
       "      <th>pickup_datetimeIs_quarter_end</th>\n",
       "      <td>False</td>\n",
       "      <td>False</td>\n",
       "      <td>False</td>\n",
       "      <td>False</td>\n",
       "      <td>False</td>\n",
       "    </tr>\n",
       "    <tr>\n",
       "      <th>pickup_datetimeIs_quarter_start</th>\n",
       "      <td>False</td>\n",
       "      <td>False</td>\n",
       "      <td>False</td>\n",
       "      <td>False</td>\n",
       "      <td>False</td>\n",
       "    </tr>\n",
       "    <tr>\n",
       "      <th>pickup_datetimeIs_year_end</th>\n",
       "      <td>False</td>\n",
       "      <td>False</td>\n",
       "      <td>False</td>\n",
       "      <td>False</td>\n",
       "      <td>False</td>\n",
       "    </tr>\n",
       "    <tr>\n",
       "      <th>pickup_datetimeIs_year_start</th>\n",
       "      <td>False</td>\n",
       "      <td>False</td>\n",
       "      <td>False</td>\n",
       "      <td>False</td>\n",
       "      <td>False</td>\n",
       "    </tr>\n",
       "    <tr>\n",
       "      <th>pickup_datetimeHour</th>\n",
       "      <td>17</td>\n",
       "      <td>16</td>\n",
       "      <td>0</td>\n",
       "      <td>4</td>\n",
       "      <td>7</td>\n",
       "    </tr>\n",
       "    <tr>\n",
       "      <th>pickup_datetimeMinute</th>\n",
       "      <td>26</td>\n",
       "      <td>52</td>\n",
       "      <td>35</td>\n",
       "      <td>30</td>\n",
       "      <td>51</td>\n",
       "    </tr>\n",
       "    <tr>\n",
       "      <th>pickup_datetimeSecond</th>\n",
       "      <td>21</td>\n",
       "      <td>16</td>\n",
       "      <td>0</td>\n",
       "      <td>42</td>\n",
       "      <td>0</td>\n",
       "    </tr>\n",
       "    <tr>\n",
       "      <th>pickup_datetimeElapsed</th>\n",
       "      <td>1245086781</td>\n",
       "      <td>1262710336</td>\n",
       "      <td>1313627700</td>\n",
       "      <td>1334982642</td>\n",
       "      <td>1268121060</td>\n",
       "    </tr>\n",
       "  </tbody>\n",
       "</table>\n",
       "</div>"
      ],
      "text/plain": [
       "                                          0           1           2  \\\n",
       "fare_amount                             4.5        16.9         5.7   \n",
       "pickup_longitude                   -73.8443     -74.016    -73.9827   \n",
       "pickup_latitude                     40.7213     40.7113     40.7613   \n",
       "dropoff_longitude                  -73.8416    -73.9793    -73.9912   \n",
       "dropoff_latitude                    40.7123      40.782     40.7506   \n",
       "passenger_count                           1           1           2   \n",
       "pickup_datetimeYear                    2009        2010        2011   \n",
       "pickup_datetimeMonth                      6           1           8   \n",
       "pickup_datetimeWeek                      25           1          33   \n",
       "pickup_datetimeDay                       15           5          18   \n",
       "pickup_datetimeDayofweek                  0           1           3   \n",
       "pickup_datetimeDayofyear                166           5         230   \n",
       "pickup_datetimeIs_month_end           False       False       False   \n",
       "pickup_datetimeIs_month_start         False       False       False   \n",
       "pickup_datetimeIs_quarter_end         False       False       False   \n",
       "pickup_datetimeIs_quarter_start       False       False       False   \n",
       "pickup_datetimeIs_year_end            False       False       False   \n",
       "pickup_datetimeIs_year_start          False       False       False   \n",
       "pickup_datetimeHour                      17          16           0   \n",
       "pickup_datetimeMinute                    26          52          35   \n",
       "pickup_datetimeSecond                    21          16           0   \n",
       "pickup_datetimeElapsed           1245086781  1262710336  1313627700   \n",
       "\n",
       "                                          3           4  \n",
       "fare_amount                             7.7         5.3  \n",
       "pickup_longitude                   -73.9871    -73.9681  \n",
       "pickup_latitude                     40.7331      40.768  \n",
       "dropoff_longitude                  -73.9916    -73.9567  \n",
       "dropoff_latitude                    40.7581     40.7838  \n",
       "passenger_count                           1           1  \n",
       "pickup_datetimeYear                    2012        2010  \n",
       "pickup_datetimeMonth                      4           3  \n",
       "pickup_datetimeWeek                      16          10  \n",
       "pickup_datetimeDay                       21           9  \n",
       "pickup_datetimeDayofweek                  5           1  \n",
       "pickup_datetimeDayofyear                112          68  \n",
       "pickup_datetimeIs_month_end           False       False  \n",
       "pickup_datetimeIs_month_start         False       False  \n",
       "pickup_datetimeIs_quarter_end         False       False  \n",
       "pickup_datetimeIs_quarter_start       False       False  \n",
       "pickup_datetimeIs_year_end            False       False  \n",
       "pickup_datetimeIs_year_start          False       False  \n",
       "pickup_datetimeHour                       4           7  \n",
       "pickup_datetimeMinute                    30          51  \n",
       "pickup_datetimeSecond                    42           0  \n",
       "pickup_datetimeElapsed           1334982642  1268121060  "
      ]
     },
     "metadata": {},
     "output_type": "display_data"
    }
   ],
   "source": [
    "display_all(df_raw.head(5).T)"
   ]
  },
  {
   "cell_type": "code",
   "execution_count": 17,
   "metadata": {},
   "outputs": [],
   "source": [
    "def distance_traversed(lat1,lon1,lat2,lon2):\n",
    "    '''Harvesine formula'''\n",
    "    radius = 6371 # km\n",
    "    dlat = math.radians(lat2-lat1)\n",
    "    dlon = math.radians(lon2-lon1)\n",
    "    a = math.sin(dlat/2) * math.sin(dlat/2) + math.cos(math.radians(lat1)) \\\n",
    "        * math.cos(math.radians(lat2)) * math.sin(dlon/2) * math.sin(dlon/2)\n",
    "    c = 2 * math.atan2(math.sqrt(a), math.sqrt(1-a))\n",
    "    d = radius * c\n",
    "    return d"
   ]
  },
  {
   "cell_type": "code",
   "execution_count": 18,
   "metadata": {},
   "outputs": [],
   "source": [
    "def airport(name,lat1,lon1,lat2,lon2):\n",
    "    '''Function to determine if either pickup or dropoff is near an airport'''\n",
    "    if name == 'nyc':\n",
    "        long, lat = -74.0063889, 40.7141667\n",
    "    elif name == 'jfk':    \n",
    "        long, lat = -73.7822222222, 40.6441666667\n",
    "    elif name == 'ewr':    \n",
    "        long, lat = -74.175, 40.69\n",
    "    elif name == 'lgr':    \n",
    "        long, lat = -73.87, 40.77\n",
    "    return min(distance_traversed(lat,long,lat2,lon2),distance_traversed(lat1,lon1,lat,long))<1.5"
   ]
  },
  {
   "cell_type": "code",
   "execution_count": 19,
   "metadata": {},
   "outputs": [],
   "source": [
    "def features(data):\n",
    "    data['longitutde_traversed'] = (data.dropoff_longitude - data.pickup_longitude).abs()\n",
    "    data['latitude_traversed'] = (data.dropoff_latitude - data.pickup_latitude).abs()\n",
    "    data['distance_traversed'] = np.vectorize(distance_traversed)(data.pickup_latitude,data.pickup_longitude,data.dropoff_latitude,data.dropoff_longitude)\n",
    "    data['near_nyc'] = np.vectorize(airport)('nyc',data.pickup_latitude,data.pickup_longitude,data.dropoff_latitude,data.dropoff_longitude)\n",
    "    data['near_jfk'] = np.vectorize(airport)('jfk',data.pickup_latitude,data.pickup_longitude,data.dropoff_latitude,data.dropoff_longitude)\n",
    "    data['near_ewr'] = np.vectorize(airport)('ewr',data.pickup_latitude,data.pickup_longitude,data.dropoff_latitude,data.dropoff_longitude)\n",
    "    data['near_lgr'] = np.vectorize(airport)('lgr',data.pickup_latitude,data.pickup_longitude,data.dropoff_latitude,data.dropoff_longitude)"
   ]
  },
  {
   "cell_type": "code",
   "execution_count": 20,
   "metadata": {},
   "outputs": [
    {
     "name": "stdout",
     "output_type": "stream",
     "text": [
      "Wall time: 5min 7s\n"
     ]
    }
   ],
   "source": [
    "%time features(df_raw)"
   ]
  },
  {
   "cell_type": "code",
   "execution_count": 21,
   "metadata": {},
   "outputs": [
    {
     "data": {
      "text/html": [
       "<div>\n",
       "<style scoped>\n",
       "    .dataframe tbody tr th:only-of-type {\n",
       "        vertical-align: middle;\n",
       "    }\n",
       "\n",
       "    .dataframe tbody tr th {\n",
       "        vertical-align: top;\n",
       "    }\n",
       "\n",
       "    .dataframe thead th {\n",
       "        text-align: right;\n",
       "    }\n",
       "</style>\n",
       "<table border=\"1\" class=\"dataframe\">\n",
       "  <thead>\n",
       "    <tr style=\"text-align: right;\">\n",
       "      <th></th>\n",
       "      <th>0</th>\n",
       "      <th>1</th>\n",
       "    </tr>\n",
       "  </thead>\n",
       "  <tbody>\n",
       "    <tr>\n",
       "      <th>fare_amount</th>\n",
       "      <td>4.5</td>\n",
       "      <td>16.9</td>\n",
       "    </tr>\n",
       "    <tr>\n",
       "      <th>pickup_longitude</th>\n",
       "      <td>-73.8443</td>\n",
       "      <td>-74.016</td>\n",
       "    </tr>\n",
       "    <tr>\n",
       "      <th>pickup_latitude</th>\n",
       "      <td>40.7213</td>\n",
       "      <td>40.7113</td>\n",
       "    </tr>\n",
       "    <tr>\n",
       "      <th>dropoff_longitude</th>\n",
       "      <td>-73.8416</td>\n",
       "      <td>-73.9793</td>\n",
       "    </tr>\n",
       "    <tr>\n",
       "      <th>dropoff_latitude</th>\n",
       "      <td>40.7123</td>\n",
       "      <td>40.782</td>\n",
       "    </tr>\n",
       "    <tr>\n",
       "      <th>passenger_count</th>\n",
       "      <td>1</td>\n",
       "      <td>1</td>\n",
       "    </tr>\n",
       "    <tr>\n",
       "      <th>pickup_datetimeYear</th>\n",
       "      <td>2009</td>\n",
       "      <td>2010</td>\n",
       "    </tr>\n",
       "    <tr>\n",
       "      <th>pickup_datetimeMonth</th>\n",
       "      <td>6</td>\n",
       "      <td>1</td>\n",
       "    </tr>\n",
       "    <tr>\n",
       "      <th>pickup_datetimeWeek</th>\n",
       "      <td>25</td>\n",
       "      <td>1</td>\n",
       "    </tr>\n",
       "    <tr>\n",
       "      <th>pickup_datetimeDay</th>\n",
       "      <td>15</td>\n",
       "      <td>5</td>\n",
       "    </tr>\n",
       "    <tr>\n",
       "      <th>pickup_datetimeDayofweek</th>\n",
       "      <td>0</td>\n",
       "      <td>1</td>\n",
       "    </tr>\n",
       "    <tr>\n",
       "      <th>pickup_datetimeDayofyear</th>\n",
       "      <td>166</td>\n",
       "      <td>5</td>\n",
       "    </tr>\n",
       "    <tr>\n",
       "      <th>pickup_datetimeIs_month_end</th>\n",
       "      <td>False</td>\n",
       "      <td>False</td>\n",
       "    </tr>\n",
       "    <tr>\n",
       "      <th>pickup_datetimeIs_month_start</th>\n",
       "      <td>False</td>\n",
       "      <td>False</td>\n",
       "    </tr>\n",
       "    <tr>\n",
       "      <th>pickup_datetimeIs_quarter_end</th>\n",
       "      <td>False</td>\n",
       "      <td>False</td>\n",
       "    </tr>\n",
       "    <tr>\n",
       "      <th>pickup_datetimeIs_quarter_start</th>\n",
       "      <td>False</td>\n",
       "      <td>False</td>\n",
       "    </tr>\n",
       "    <tr>\n",
       "      <th>pickup_datetimeIs_year_end</th>\n",
       "      <td>False</td>\n",
       "      <td>False</td>\n",
       "    </tr>\n",
       "    <tr>\n",
       "      <th>pickup_datetimeIs_year_start</th>\n",
       "      <td>False</td>\n",
       "      <td>False</td>\n",
       "    </tr>\n",
       "    <tr>\n",
       "      <th>pickup_datetimeHour</th>\n",
       "      <td>17</td>\n",
       "      <td>16</td>\n",
       "    </tr>\n",
       "    <tr>\n",
       "      <th>pickup_datetimeMinute</th>\n",
       "      <td>26</td>\n",
       "      <td>52</td>\n",
       "    </tr>\n",
       "    <tr>\n",
       "      <th>pickup_datetimeSecond</th>\n",
       "      <td>21</td>\n",
       "      <td>16</td>\n",
       "    </tr>\n",
       "    <tr>\n",
       "      <th>pickup_datetimeElapsed</th>\n",
       "      <td>1245086781</td>\n",
       "      <td>1262710336</td>\n",
       "    </tr>\n",
       "    <tr>\n",
       "      <th>longitutde_traversed</th>\n",
       "      <td>0.00270081</td>\n",
       "      <td>0.0367737</td>\n",
       "    </tr>\n",
       "    <tr>\n",
       "      <th>latitude_traversed</th>\n",
       "      <td>0.00904083</td>\n",
       "      <td>0.0707016</td>\n",
       "    </tr>\n",
       "    <tr>\n",
       "      <th>distance_traversed</th>\n",
       "      <td>1.03074</td>\n",
       "      <td>8.45</td>\n",
       "    </tr>\n",
       "    <tr>\n",
       "      <th>near_nyc</th>\n",
       "      <td>False</td>\n",
       "      <td>True</td>\n",
       "    </tr>\n",
       "    <tr>\n",
       "      <th>near_jfk</th>\n",
       "      <td>False</td>\n",
       "      <td>False</td>\n",
       "    </tr>\n",
       "    <tr>\n",
       "      <th>near_ewr</th>\n",
       "      <td>False</td>\n",
       "      <td>False</td>\n",
       "    </tr>\n",
       "    <tr>\n",
       "      <th>near_lgr</th>\n",
       "      <td>False</td>\n",
       "      <td>False</td>\n",
       "    </tr>\n",
       "  </tbody>\n",
       "</table>\n",
       "</div>"
      ],
      "text/plain": [
       "                                          0           1\n",
       "fare_amount                             4.5        16.9\n",
       "pickup_longitude                   -73.8443     -74.016\n",
       "pickup_latitude                     40.7213     40.7113\n",
       "dropoff_longitude                  -73.8416    -73.9793\n",
       "dropoff_latitude                    40.7123      40.782\n",
       "passenger_count                           1           1\n",
       "pickup_datetimeYear                    2009        2010\n",
       "pickup_datetimeMonth                      6           1\n",
       "pickup_datetimeWeek                      25           1\n",
       "pickup_datetimeDay                       15           5\n",
       "pickup_datetimeDayofweek                  0           1\n",
       "pickup_datetimeDayofyear                166           5\n",
       "pickup_datetimeIs_month_end           False       False\n",
       "pickup_datetimeIs_month_start         False       False\n",
       "pickup_datetimeIs_quarter_end         False       False\n",
       "pickup_datetimeIs_quarter_start       False       False\n",
       "pickup_datetimeIs_year_end            False       False\n",
       "pickup_datetimeIs_year_start          False       False\n",
       "pickup_datetimeHour                      17          16\n",
       "pickup_datetimeMinute                    26          52\n",
       "pickup_datetimeSecond                    21          16\n",
       "pickup_datetimeElapsed           1245086781  1262710336\n",
       "longitutde_traversed             0.00270081   0.0367737\n",
       "latitude_traversed               0.00904083   0.0707016\n",
       "distance_traversed                  1.03074        8.45\n",
       "near_nyc                              False        True\n",
       "near_jfk                              False       False\n",
       "near_ewr                              False       False\n",
       "near_lgr                              False       False"
      ]
     },
     "metadata": {},
     "output_type": "display_data"
    }
   ],
   "source": [
    "display_all(df_raw.head(2).T)"
   ]
  },
  {
   "cell_type": "code",
   "execution_count": 22,
   "metadata": {},
   "outputs": [],
   "source": [
    "#os.makedirs('tmp',exist_ok=True)\n",
    "#df_raw.to_feather('tmp/raw')"
   ]
  },
  {
   "cell_type": "markdown",
   "metadata": {},
   "source": [
    "## Validation Set"
   ]
  },
  {
   "cell_type": "markdown",
   "metadata": {},
   "source": [
    "Let's create a validation set which is representative of our data. Let's split on the passenger_count variable."
   ]
  },
  {
   "cell_type": "code",
   "execution_count": 22,
   "metadata": {
    "scrolled": false
   },
   "outputs": [
    {
     "data": {
      "text/plain": [
       "1    0.691728\n",
       "2    0.147624\n",
       "5    0.070805\n",
       "3    0.043914\n",
       "4    0.021228\n",
       "6    0.021179\n",
       "0    0.003523\n",
       "Name: passenger_count, dtype: float64"
      ]
     },
     "execution_count": 22,
     "metadata": {},
     "output_type": "execute_result"
    }
   ],
   "source": [
    "df_raw.passenger_count.value_counts()/len(df_raw)"
   ]
  },
  {
   "cell_type": "code",
   "execution_count": 23,
   "metadata": {},
   "outputs": [
    {
     "name": "stdout",
     "output_type": "stream",
     "text": [
      "Wall time: 10 s\n"
     ]
    }
   ],
   "source": [
    "%%time\n",
    "split = StratifiedShuffleSplit(n_splits=1, test_size=10000, random_state=42)\n",
    "for train_index, test_index in split.split(df_raw, df_raw.passenger_count):\n",
    "    train_set = df_raw.loc[df_raw.index.intersection(train_index)]\n",
    "    test_set = df_raw.loc[df_raw.index.intersection(test_index)]"
   ]
  },
  {
   "cell_type": "code",
   "execution_count": 24,
   "metadata": {
    "scrolled": true
   },
   "outputs": [
    {
     "data": {
      "text/plain": [
       "1    0.691728\n",
       "2    0.147623\n",
       "5    0.070806\n",
       "3    0.043916\n",
       "4    0.021226\n",
       "6    0.021180\n",
       "0    0.003523\n",
       "Name: passenger_count, dtype: float64"
      ]
     },
     "execution_count": 24,
     "metadata": {},
     "output_type": "execute_result"
    }
   ],
   "source": [
    "train_set.passenger_count.value_counts()/len(train_set)"
   ]
  },
  {
   "cell_type": "code",
   "execution_count": 25,
   "metadata": {
    "scrolled": true
   },
   "outputs": [
    {
     "data": {
      "text/plain": [
       "1    0.6919\n",
       "2    0.1507\n",
       "5    0.0693\n",
       "3    0.0417\n",
       "4    0.0234\n",
       "6    0.0196\n",
       "0    0.0034\n",
       "Name: passenger_count, dtype: float64"
      ]
     },
     "execution_count": 25,
     "metadata": {},
     "output_type": "execute_result"
    }
   ],
   "source": [
    "test_set.passenger_count.value_counts()/len(test_set)"
   ]
  },
  {
   "cell_type": "markdown",
   "metadata": {},
   "source": [
    "## Data Visualization"
   ]
  },
  {
   "cell_type": "code",
   "execution_count": 26,
   "metadata": {},
   "outputs": [],
   "source": [
    "#% matplotlib inline\n",
    "#train_set.plot(kind='scatter', x='pickup_latitude',y='pickup_longitude',alpha=0.1)"
   ]
  },
  {
   "cell_type": "markdown",
   "metadata": {},
   "source": [
    "## Outlier Detection"
   ]
  },
  {
   "cell_type": "code",
   "execution_count": 27,
   "metadata": {},
   "outputs": [
    {
     "data": {
      "text/html": [
       "<div>\n",
       "<style scoped>\n",
       "    .dataframe tbody tr th:only-of-type {\n",
       "        vertical-align: middle;\n",
       "    }\n",
       "\n",
       "    .dataframe tbody tr th {\n",
       "        vertical-align: top;\n",
       "    }\n",
       "\n",
       "    .dataframe thead th {\n",
       "        text-align: right;\n",
       "    }\n",
       "</style>\n",
       "<table border=\"1\" class=\"dataframe\">\n",
       "  <thead>\n",
       "    <tr style=\"text-align: right;\">\n",
       "      <th></th>\n",
       "      <th>fare_amount</th>\n",
       "      <th>pickup_longitude</th>\n",
       "      <th>pickup_latitude</th>\n",
       "      <th>dropoff_longitude</th>\n",
       "      <th>dropoff_latitude</th>\n",
       "      <th>passenger_count</th>\n",
       "      <th>pickup_datetimeYear</th>\n",
       "      <th>pickup_datetimeMonth</th>\n",
       "      <th>pickup_datetimeWeek</th>\n",
       "      <th>pickup_datetimeDay</th>\n",
       "      <th>...</th>\n",
       "      <th>pickup_datetimeMinute</th>\n",
       "      <th>pickup_datetimeSecond</th>\n",
       "      <th>pickup_datetimeElapsed</th>\n",
       "      <th>longitutde_traversed</th>\n",
       "      <th>latitude_traversed</th>\n",
       "      <th>distance_traversed</th>\n",
       "      <th>near_nyc</th>\n",
       "      <th>near_jfk</th>\n",
       "      <th>near_ewr</th>\n",
       "      <th>near_lgr</th>\n",
       "    </tr>\n",
       "  </thead>\n",
       "  <tbody>\n",
       "    <tr>\n",
       "      <th>11999399</th>\n",
       "      <td>14.9</td>\n",
       "      <td>-73.974144</td>\n",
       "      <td>40.757156</td>\n",
       "      <td>-73.991753</td>\n",
       "      <td>40.726082</td>\n",
       "      <td>5</td>\n",
       "      <td>2010</td>\n",
       "      <td>9</td>\n",
       "      <td>39</td>\n",
       "      <td>27</td>\n",
       "      <td>...</td>\n",
       "      <td>34</td>\n",
       "      <td>0</td>\n",
       "      <td>1285623240</td>\n",
       "      <td>0.017609</td>\n",
       "      <td>0.031075</td>\n",
       "      <td>3.760326</td>\n",
       "      <td>False</td>\n",
       "      <td>False</td>\n",
       "      <td>False</td>\n",
       "      <td>False</td>\n",
       "    </tr>\n",
       "    <tr>\n",
       "      <th>11999400</th>\n",
       "      <td>13.3</td>\n",
       "      <td>-73.981979</td>\n",
       "      <td>40.740780</td>\n",
       "      <td>-74.008232</td>\n",
       "      <td>40.704372</td>\n",
       "      <td>1</td>\n",
       "      <td>2010</td>\n",
       "      <td>11</td>\n",
       "      <td>45</td>\n",
       "      <td>9</td>\n",
       "      <td>...</td>\n",
       "      <td>27</td>\n",
       "      <td>0</td>\n",
       "      <td>1289316420</td>\n",
       "      <td>0.026253</td>\n",
       "      <td>0.036407</td>\n",
       "      <td>4.613409</td>\n",
       "      <td>True</td>\n",
       "      <td>False</td>\n",
       "      <td>False</td>\n",
       "      <td>False</td>\n",
       "    </tr>\n",
       "    <tr>\n",
       "      <th>11999401</th>\n",
       "      <td>8.5</td>\n",
       "      <td>-73.987808</td>\n",
       "      <td>40.749763</td>\n",
       "      <td>-73.984261</td>\n",
       "      <td>40.738449</td>\n",
       "      <td>1</td>\n",
       "      <td>2012</td>\n",
       "      <td>5</td>\n",
       "      <td>21</td>\n",
       "      <td>22</td>\n",
       "      <td>...</td>\n",
       "      <td>55</td>\n",
       "      <td>28</td>\n",
       "      <td>1337673328</td>\n",
       "      <td>0.003548</td>\n",
       "      <td>0.011314</td>\n",
       "      <td>1.293116</td>\n",
       "      <td>False</td>\n",
       "      <td>False</td>\n",
       "      <td>False</td>\n",
       "      <td>False</td>\n",
       "    </tr>\n",
       "    <tr>\n",
       "      <th>11999402</th>\n",
       "      <td>65.0</td>\n",
       "      <td>-73.966301</td>\n",
       "      <td>40.801571</td>\n",
       "      <td>-73.966301</td>\n",
       "      <td>40.801571</td>\n",
       "      <td>2</td>\n",
       "      <td>2012</td>\n",
       "      <td>11</td>\n",
       "      <td>44</td>\n",
       "      <td>2</td>\n",
       "      <td>...</td>\n",
       "      <td>38</td>\n",
       "      <td>33</td>\n",
       "      <td>1351852713</td>\n",
       "      <td>0.000000</td>\n",
       "      <td>0.000000</td>\n",
       "      <td>0.000000</td>\n",
       "      <td>False</td>\n",
       "      <td>False</td>\n",
       "      <td>False</td>\n",
       "      <td>False</td>\n",
       "    </tr>\n",
       "    <tr>\n",
       "      <th>11999403</th>\n",
       "      <td>11.5</td>\n",
       "      <td>-73.976822</td>\n",
       "      <td>40.741741</td>\n",
       "      <td>-73.989296</td>\n",
       "      <td>40.718735</td>\n",
       "      <td>1</td>\n",
       "      <td>2013</td>\n",
       "      <td>2</td>\n",
       "      <td>8</td>\n",
       "      <td>19</td>\n",
       "      <td>...</td>\n",
       "      <td>37</td>\n",
       "      <td>9</td>\n",
       "      <td>1361309829</td>\n",
       "      <td>0.012474</td>\n",
       "      <td>0.023006</td>\n",
       "      <td>2.765716</td>\n",
       "      <td>False</td>\n",
       "      <td>False</td>\n",
       "      <td>False</td>\n",
       "      <td>False</td>\n",
       "    </tr>\n",
       "  </tbody>\n",
       "</table>\n",
       "<p>5 rows × 29 columns</p>\n",
       "</div>"
      ],
      "text/plain": [
       "          fare_amount  pickup_longitude  pickup_latitude  dropoff_longitude  \\\n",
       "11999399         14.9        -73.974144        40.757156         -73.991753   \n",
       "11999400         13.3        -73.981979        40.740780         -74.008232   \n",
       "11999401          8.5        -73.987808        40.749763         -73.984261   \n",
       "11999402         65.0        -73.966301        40.801571         -73.966301   \n",
       "11999403         11.5        -73.976822        40.741741         -73.989296   \n",
       "\n",
       "          dropoff_latitude  passenger_count  pickup_datetimeYear  \\\n",
       "11999399         40.726082                5                 2010   \n",
       "11999400         40.704372                1                 2010   \n",
       "11999401         40.738449                1                 2012   \n",
       "11999402         40.801571                2                 2012   \n",
       "11999403         40.718735                1                 2013   \n",
       "\n",
       "          pickup_datetimeMonth  pickup_datetimeWeek  pickup_datetimeDay  \\\n",
       "11999399                     9                   39                  27   \n",
       "11999400                    11                   45                   9   \n",
       "11999401                     5                   21                  22   \n",
       "11999402                    11                   44                   2   \n",
       "11999403                     2                    8                  19   \n",
       "\n",
       "            ...     pickup_datetimeMinute  pickup_datetimeSecond  \\\n",
       "11999399    ...                        34                      0   \n",
       "11999400    ...                        27                      0   \n",
       "11999401    ...                        55                     28   \n",
       "11999402    ...                        38                     33   \n",
       "11999403    ...                        37                      9   \n",
       "\n",
       "          pickup_datetimeElapsed  longitutde_traversed  latitude_traversed  \\\n",
       "11999399              1285623240              0.017609            0.031075   \n",
       "11999400              1289316420              0.026253            0.036407   \n",
       "11999401              1337673328              0.003548            0.011314   \n",
       "11999402              1351852713              0.000000            0.000000   \n",
       "11999403              1361309829              0.012474            0.023006   \n",
       "\n",
       "          distance_traversed  near_nyc  near_jfk  near_ewr  near_lgr  \n",
       "11999399            3.760326     False     False     False     False  \n",
       "11999400            4.613409      True     False     False     False  \n",
       "11999401            1.293116     False     False     False     False  \n",
       "11999402            0.000000     False     False     False     False  \n",
       "11999403            2.765716     False     False     False     False  \n",
       "\n",
       "[5 rows x 29 columns]"
      ]
     },
     "execution_count": 27,
     "metadata": {},
     "output_type": "execute_result"
    }
   ],
   "source": [
    "train_set.tail(5)"
   ]
  },
  {
   "cell_type": "code",
   "execution_count": 28,
   "metadata": {
    "scrolled": true
   },
   "outputs": [],
   "source": [
    "train_set = train_set.reset_index().drop('index', axis=1)"
   ]
  },
  {
   "cell_type": "code",
   "execution_count": 29,
   "metadata": {},
   "outputs": [
    {
     "data": {
      "text/html": [
       "<div>\n",
       "<style scoped>\n",
       "    .dataframe tbody tr th:only-of-type {\n",
       "        vertical-align: middle;\n",
       "    }\n",
       "\n",
       "    .dataframe tbody tr th {\n",
       "        vertical-align: top;\n",
       "    }\n",
       "\n",
       "    .dataframe thead th {\n",
       "        text-align: right;\n",
       "    }\n",
       "</style>\n",
       "<table border=\"1\" class=\"dataframe\">\n",
       "  <thead>\n",
       "    <tr style=\"text-align: right;\">\n",
       "      <th></th>\n",
       "      <th>fare_amount</th>\n",
       "      <th>pickup_longitude</th>\n",
       "      <th>pickup_latitude</th>\n",
       "      <th>dropoff_longitude</th>\n",
       "      <th>dropoff_latitude</th>\n",
       "      <th>passenger_count</th>\n",
       "      <th>pickup_datetimeYear</th>\n",
       "      <th>pickup_datetimeMonth</th>\n",
       "      <th>pickup_datetimeWeek</th>\n",
       "      <th>pickup_datetimeDay</th>\n",
       "      <th>...</th>\n",
       "      <th>pickup_datetimeMinute</th>\n",
       "      <th>pickup_datetimeSecond</th>\n",
       "      <th>pickup_datetimeElapsed</th>\n",
       "      <th>longitutde_traversed</th>\n",
       "      <th>latitude_traversed</th>\n",
       "      <th>distance_traversed</th>\n",
       "      <th>near_nyc</th>\n",
       "      <th>near_jfk</th>\n",
       "      <th>near_ewr</th>\n",
       "      <th>near_lgr</th>\n",
       "    </tr>\n",
       "  </thead>\n",
       "  <tbody>\n",
       "    <tr>\n",
       "      <th>11988806</th>\n",
       "      <td>65.0</td>\n",
       "      <td>-73.966301</td>\n",
       "      <td>40.801571</td>\n",
       "      <td>-73.966301</td>\n",
       "      <td>40.801571</td>\n",
       "      <td>2</td>\n",
       "      <td>2012</td>\n",
       "      <td>11</td>\n",
       "      <td>44</td>\n",
       "      <td>2</td>\n",
       "      <td>...</td>\n",
       "      <td>38</td>\n",
       "      <td>33</td>\n",
       "      <td>1351852713</td>\n",
       "      <td>0.000000</td>\n",
       "      <td>0.000000</td>\n",
       "      <td>0.000000</td>\n",
       "      <td>False</td>\n",
       "      <td>False</td>\n",
       "      <td>False</td>\n",
       "      <td>False</td>\n",
       "    </tr>\n",
       "    <tr>\n",
       "      <th>11988807</th>\n",
       "      <td>11.5</td>\n",
       "      <td>-73.976822</td>\n",
       "      <td>40.741741</td>\n",
       "      <td>-73.989296</td>\n",
       "      <td>40.718735</td>\n",
       "      <td>1</td>\n",
       "      <td>2013</td>\n",
       "      <td>2</td>\n",
       "      <td>8</td>\n",
       "      <td>19</td>\n",
       "      <td>...</td>\n",
       "      <td>37</td>\n",
       "      <td>9</td>\n",
       "      <td>1361309829</td>\n",
       "      <td>0.012474</td>\n",
       "      <td>0.023006</td>\n",
       "      <td>2.765716</td>\n",
       "      <td>False</td>\n",
       "      <td>False</td>\n",
       "      <td>False</td>\n",
       "      <td>False</td>\n",
       "    </tr>\n",
       "  </tbody>\n",
       "</table>\n",
       "<p>2 rows × 29 columns</p>\n",
       "</div>"
      ],
      "text/plain": [
       "          fare_amount  pickup_longitude  pickup_latitude  dropoff_longitude  \\\n",
       "11988806         65.0        -73.966301        40.801571         -73.966301   \n",
       "11988807         11.5        -73.976822        40.741741         -73.989296   \n",
       "\n",
       "          dropoff_latitude  passenger_count  pickup_datetimeYear  \\\n",
       "11988806         40.801571                2                 2012   \n",
       "11988807         40.718735                1                 2013   \n",
       "\n",
       "          pickup_datetimeMonth  pickup_datetimeWeek  pickup_datetimeDay  \\\n",
       "11988806                    11                   44                   2   \n",
       "11988807                     2                    8                  19   \n",
       "\n",
       "            ...     pickup_datetimeMinute  pickup_datetimeSecond  \\\n",
       "11988806    ...                        38                     33   \n",
       "11988807    ...                        37                      9   \n",
       "\n",
       "          pickup_datetimeElapsed  longitutde_traversed  latitude_traversed  \\\n",
       "11988806              1351852713              0.000000            0.000000   \n",
       "11988807              1361309829              0.012474            0.023006   \n",
       "\n",
       "          distance_traversed  near_nyc  near_jfk  near_ewr  near_lgr  \n",
       "11988806            0.000000     False     False     False     False  \n",
       "11988807            2.765716     False     False     False     False  \n",
       "\n",
       "[2 rows x 29 columns]"
      ]
     },
     "execution_count": 29,
     "metadata": {},
     "output_type": "execute_result"
    }
   ],
   "source": [
    "train_set.tail(2)"
   ]
  },
  {
   "cell_type": "code",
   "execution_count": 30,
   "metadata": {},
   "outputs": [],
   "source": [
    "outliers = []\n",
    "\n",
    "# For each feature find the data points with extreme high or low values\n",
    "for feature in ['longitutde_traversed','latitude_traversed','distance_traversed']:\n",
    "    Q1 = np.percentile(train_set[feature],25,axis=0)\n",
    "    Q3 = np.percentile(train_set[feature],75,axis=0)\n",
    "    step = 10*(Q3-Q1)\n",
    "    feature_outlier = train_set[~((train_set[feature] >= Q1 - step) & (train_set[feature] <= Q3 + step))]\n",
    "    outliers += feature_outlier.index.tolist()\n"
   ]
  },
  {
   "cell_type": "code",
   "execution_count": 31,
   "metadata": {},
   "outputs": [
    {
     "data": {
      "text/plain": [
       "0.013389571340203296"
      ]
     },
     "execution_count": 31,
     "metadata": {},
     "output_type": "execute_result"
    }
   ],
   "source": [
    "len(outliers)/len(train_set)"
   ]
  },
  {
   "cell_type": "code",
   "execution_count": 32,
   "metadata": {},
   "outputs": [
    {
     "data": {
      "text/plain": [
       "11883603"
      ]
     },
     "execution_count": 32,
     "metadata": {},
     "output_type": "execute_result"
    }
   ],
   "source": [
    "train_set = train_set.drop(train_set.index[outliers]).reset_index(drop = True)\n",
    "len(train_set)"
   ]
  },
  {
   "cell_type": "code",
   "execution_count": 33,
   "metadata": {},
   "outputs": [],
   "source": [
    "y_train = train_set.fare_amount\n",
    "X_train = train_set.drop('fare_amount', axis = 1)\n",
    "y_test = test_set.fare_amount\n",
    "X_test = test_set.drop('fare_amount', axis = 1)"
   ]
  },
  {
   "cell_type": "markdown",
   "metadata": {},
   "source": [
    "Next, let's create a scorer function."
   ]
  },
  {
   "cell_type": "code",
   "execution_count": 34,
   "metadata": {},
   "outputs": [],
   "source": [
    "def rmse(x,y): return math.sqrt(((x-y)**2).mean())\n",
    "\n",
    "def print_score(m):\n",
    "    res = [rmse(m.predict(X_train), y_train), rmse(m.predict(X_test), y_test),\n",
    "                m.score(X_train, y_train), m.score(X_test, y_test)]\n",
    "    print(res)"
   ]
  },
  {
   "cell_type": "markdown",
   "metadata": {},
   "source": [
    "## Model Creation"
   ]
  },
  {
   "cell_type": "code",
   "execution_count": 35,
   "metadata": {},
   "outputs": [],
   "source": [
    "set_rf_samples(40000)"
   ]
  },
  {
   "cell_type": "code",
   "execution_count": 36,
   "metadata": {},
   "outputs": [
    {
     "name": "stdout",
     "output_type": "stream",
     "text": [
      "Wall time: 1min 16s\n",
      "[4.132484983145871, 5.334562497581804, 0.790694861399391, 0.720448022693494]\n"
     ]
    }
   ],
   "source": [
    "m = RandomForestRegressor(n_estimators=100, min_samples_leaf=3, n_jobs=-1, max_features=0.8)\n",
    "%time m.fit(X_train, y_train)\n",
    "print_score(m)"
   ]
  },
  {
   "cell_type": "markdown",
   "metadata": {},
   "source": [
    "## Predictions on test set"
   ]
  },
  {
   "cell_type": "code",
   "execution_count": 37,
   "metadata": {},
   "outputs": [],
   "source": [
    "test_set = pd.read_csv(f'{PATH}/test.csv')"
   ]
  },
  {
   "cell_type": "code",
   "execution_count": 38,
   "metadata": {},
   "outputs": [],
   "source": [
    "test_key = test_set.key\n",
    "test_set.drop('key', axis=1, inplace=True)"
   ]
  },
  {
   "cell_type": "code",
   "execution_count": 39,
   "metadata": {},
   "outputs": [],
   "source": [
    "add_datepart(test_set,'pickup_datetime',drop=True, time=True)\n",
    "features(test_set)"
   ]
  },
  {
   "cell_type": "code",
   "execution_count": 40,
   "metadata": {},
   "outputs": [],
   "source": [
    "test_predictions = m.predict(test_set)"
   ]
  },
  {
   "cell_type": "code",
   "execution_count": 41,
   "metadata": {},
   "outputs": [],
   "source": [
    "submission = pd.DataFrame({'key': test_key,\n",
    "                          'fare_amount': test_predictions})\n",
    "submission.to_csv('submissions.csv',index=False)"
   ]
  }
 ],
 "metadata": {
  "kernelspec": {
   "display_name": "Python 3",
   "language": "python",
   "name": "python3"
  },
  "language_info": {
   "codemirror_mode": {
    "name": "ipython",
    "version": 3
   },
   "file_extension": ".py",
   "mimetype": "text/x-python",
   "name": "python",
   "nbconvert_exporter": "python",
   "pygments_lexer": "ipython3",
   "version": "3.6.5"
  }
 },
 "nbformat": 4,
 "nbformat_minor": 2
}
