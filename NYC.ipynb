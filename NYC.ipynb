{
 "cells": [
  {
   "cell_type": "code",
   "execution_count": 1,
   "metadata": {},
   "outputs": [],
   "source": [
    "# Importing libraries\n",
    "from fastai.imports import *\n",
    "from fastai.structured import *\n",
    "\n",
    "from sklearn.ensemble import RandomForestRegressor\n",
    "from sklearn.model_selection import train_test_split, StratifiedShuffleSplit\n",
    "\n",
    "from IPython.display import display\n",
    "\n",
    "import os"
   ]
  },
  {
   "cell_type": "code",
   "execution_count": 2,
   "metadata": {},
   "outputs": [],
   "source": [
    "PATH = 'data'\n",
    "\n",
    "types = {'fare_amount':'float32',\n",
    "        'pickup_longitude':'float32',\n",
    "        'pickup_latitude':'float32',\n",
    "        'dropoff_longitude':'float32',\n",
    "        'dropoff_latitude':'float32',\n",
    "        'passenger_count':'int32',\n",
    "         'pickup_datetime':'object'\n",
    "        }\n",
    "cols_to_use = ['fare_amount','pickup_datetime','pickup_longitude','pickup_latitude','dropoff_longitude','dropoff_latitude','passenger_count']"
   ]
  },
  {
   "cell_type": "code",
   "execution_count": 3,
   "metadata": {},
   "outputs": [
    {
     "name": "stdout",
     "output_type": "stream",
     "text": [
      "Wall time: 39.6 s\n"
     ]
    }
   ],
   "source": [
    "# Importing data\n",
    "\n",
    "%time df_raw = pd.read_csv(f'{PATH}/train.csv', nrows=20000000,usecols=cols_to_use, dtype = types)"
   ]
  },
  {
   "cell_type": "code",
   "execution_count": 4,
   "metadata": {
    "scrolled": false
   },
   "outputs": [
    {
     "name": "stdout",
     "output_type": "stream",
     "text": [
      "<class 'pandas.core.frame.DataFrame'>\n",
      "RangeIndex: 20000000 entries, 0 to 19999999\n",
      "Data columns (total 7 columns):\n",
      "fare_amount          float32\n",
      "pickup_datetime      object\n",
      "pickup_longitude     float32\n",
      "pickup_latitude      float32\n",
      "dropoff_longitude    float32\n",
      "dropoff_latitude     float32\n",
      "passenger_count      int32\n",
      "dtypes: float32(5), int32(1), object(1)\n",
      "memory usage: 610.4+ MB\n"
     ]
    }
   ],
   "source": [
    "df_raw.info()"
   ]
  },
  {
   "cell_type": "code",
   "execution_count": 5,
   "metadata": {},
   "outputs": [],
   "source": [
    "# Function to set display options\n",
    "def display_all(df):\n",
    "    with pd.option_context('display.max_rows',1000):\n",
    "        with pd.option_context('display.max_columns',1000):\n",
    "            display(df)"
   ]
  },
  {
   "cell_type": "markdown",
   "metadata": {},
   "source": [
    "## Exploration"
   ]
  },
  {
   "cell_type": "code",
   "execution_count": 6,
   "metadata": {},
   "outputs": [
    {
     "data": {
      "text/html": [
       "<div>\n",
       "<style scoped>\n",
       "    .dataframe tbody tr th:only-of-type {\n",
       "        vertical-align: middle;\n",
       "    }\n",
       "\n",
       "    .dataframe tbody tr th {\n",
       "        vertical-align: top;\n",
       "    }\n",
       "\n",
       "    .dataframe thead th {\n",
       "        text-align: right;\n",
       "    }\n",
       "</style>\n",
       "<table border=\"1\" class=\"dataframe\">\n",
       "  <thead>\n",
       "    <tr style=\"text-align: right;\">\n",
       "      <th></th>\n",
       "      <th>fare_amount</th>\n",
       "      <th>pickup_longitude</th>\n",
       "      <th>pickup_latitude</th>\n",
       "      <th>dropoff_longitude</th>\n",
       "      <th>dropoff_latitude</th>\n",
       "      <th>passenger_count</th>\n",
       "    </tr>\n",
       "  </thead>\n",
       "  <tbody>\n",
       "    <tr>\n",
       "      <th>count</th>\n",
       "      <td>2.000000e+07</td>\n",
       "      <td>2.000000e+07</td>\n",
       "      <td>2.000000e+07</td>\n",
       "      <td>1.999986e+07</td>\n",
       "      <td>1.999986e+07</td>\n",
       "      <td>2.000000e+07</td>\n",
       "    </tr>\n",
       "    <tr>\n",
       "      <th>mean</th>\n",
       "      <td>1.134297e+01</td>\n",
       "      <td>-7.251132e+01</td>\n",
       "      <td>3.992074e+01</td>\n",
       "      <td>-7.251060e+01</td>\n",
       "      <td>3.991951e+01</td>\n",
       "      <td>1.685312e+00</td>\n",
       "    </tr>\n",
       "    <tr>\n",
       "      <th>std</th>\n",
       "      <td>1.689916e+01</td>\n",
       "      <td>1.298955e+01</td>\n",
       "      <td>9.388927e+00</td>\n",
       "      <td>1.290617e+01</td>\n",
       "      <td>9.570038e+00</td>\n",
       "      <td>1.321177e+00</td>\n",
       "    </tr>\n",
       "    <tr>\n",
       "      <th>min</th>\n",
       "      <td>-1.077500e+02</td>\n",
       "      <td>-3.439245e+03</td>\n",
       "      <td>-3.492264e+03</td>\n",
       "      <td>-3.442025e+03</td>\n",
       "      <td>-3.493652e+03</td>\n",
       "      <td>0.000000e+00</td>\n",
       "    </tr>\n",
       "    <tr>\n",
       "      <th>25%</th>\n",
       "      <td>6.000000e+00</td>\n",
       "      <td>-7.399207e+01</td>\n",
       "      <td>4.073491e+01</td>\n",
       "      <td>-7.399140e+01</td>\n",
       "      <td>4.073403e+01</td>\n",
       "      <td>1.000000e+00</td>\n",
       "    </tr>\n",
       "    <tr>\n",
       "      <th>50%</th>\n",
       "      <td>8.500000e+00</td>\n",
       "      <td>-7.398181e+01</td>\n",
       "      <td>4.075263e+01</td>\n",
       "      <td>-7.398016e+01</td>\n",
       "      <td>4.075315e+01</td>\n",
       "      <td>1.000000e+00</td>\n",
       "    </tr>\n",
       "    <tr>\n",
       "      <th>75%</th>\n",
       "      <td>1.250000e+01</td>\n",
       "      <td>-7.396709e+01</td>\n",
       "      <td>4.076712e+01</td>\n",
       "      <td>-7.396368e+01</td>\n",
       "      <td>4.076809e+01</td>\n",
       "      <td>2.000000e+00</td>\n",
       "    </tr>\n",
       "    <tr>\n",
       "      <th>max</th>\n",
       "      <td>6.155086e+04</td>\n",
       "      <td>3.457626e+03</td>\n",
       "      <td>3.406008e+03</td>\n",
       "      <td>3.457622e+03</td>\n",
       "      <td>3.400392e+03</td>\n",
       "      <td>2.080000e+02</td>\n",
       "    </tr>\n",
       "  </tbody>\n",
       "</table>\n",
       "</div>"
      ],
      "text/plain": [
       "        fare_amount  pickup_longitude  pickup_latitude  dropoff_longitude  \\\n",
       "count  2.000000e+07      2.000000e+07     2.000000e+07       1.999986e+07   \n",
       "mean   1.134297e+01     -7.251132e+01     3.992074e+01      -7.251060e+01   \n",
       "std    1.689916e+01      1.298955e+01     9.388927e+00       1.290617e+01   \n",
       "min   -1.077500e+02     -3.439245e+03    -3.492264e+03      -3.442025e+03   \n",
       "25%    6.000000e+00     -7.399207e+01     4.073491e+01      -7.399140e+01   \n",
       "50%    8.500000e+00     -7.398181e+01     4.075263e+01      -7.398016e+01   \n",
       "75%    1.250000e+01     -7.396709e+01     4.076712e+01      -7.396368e+01   \n",
       "max    6.155086e+04      3.457626e+03     3.406008e+03       3.457622e+03   \n",
       "\n",
       "       dropoff_latitude  passenger_count  \n",
       "count      1.999986e+07     2.000000e+07  \n",
       "mean       3.991951e+01     1.685312e+00  \n",
       "std        9.570038e+00     1.321177e+00  \n",
       "min       -3.493652e+03     0.000000e+00  \n",
       "25%        4.073403e+01     1.000000e+00  \n",
       "50%        4.075315e+01     1.000000e+00  \n",
       "75%        4.076809e+01     2.000000e+00  \n",
       "max        3.400392e+03     2.080000e+02  "
      ]
     },
     "execution_count": 6,
     "metadata": {},
     "output_type": "execute_result"
    }
   ],
   "source": [
    "df_raw.describe()"
   ]
  },
  {
   "cell_type": "markdown",
   "metadata": {},
   "source": [
    "Remove null values."
   ]
  },
  {
   "cell_type": "code",
   "execution_count": 7,
   "metadata": {},
   "outputs": [
    {
     "data": {
      "text/plain": [
       "fare_amount            0\n",
       "pickup_datetime        0\n",
       "pickup_longitude       0\n",
       "pickup_latitude        0\n",
       "dropoff_longitude    139\n",
       "dropoff_latitude     139\n",
       "passenger_count        0\n",
       "dtype: int64"
      ]
     },
     "execution_count": 7,
     "metadata": {},
     "output_type": "execute_result"
    }
   ],
   "source": [
    "df_raw.isnull().sum()"
   ]
  },
  {
   "cell_type": "code",
   "execution_count": 8,
   "metadata": {},
   "outputs": [],
   "source": [
    "df_raw.dropna(axis=0, how='any', inplace=True)"
   ]
  },
  {
   "cell_type": "markdown",
   "metadata": {},
   "source": [
    "Remove rows with no fare_amount"
   ]
  },
  {
   "cell_type": "code",
   "execution_count": 9,
   "metadata": {},
   "outputs": [],
   "source": [
    "df_raw = df_raw[df_raw.fare_amount>=0]"
   ]
  },
  {
   "cell_type": "markdown",
   "metadata": {},
   "source": [
    "Let's look at the passenger_count feature."
   ]
  },
  {
   "cell_type": "code",
   "execution_count": 10,
   "metadata": {},
   "outputs": [
    {
     "data": {
      "text/plain": [
       "array([  1,   2,   3,   6,   5,   4,   0, 208,   9, 129,   7,  51,  49,   8,  34], dtype=int64)"
      ]
     },
     "execution_count": 10,
     "metadata": {},
     "output_type": "execute_result"
    }
   ],
   "source": [
    "df_raw.passenger_count.unique()"
   ]
  },
  {
   "cell_type": "code",
   "execution_count": 11,
   "metadata": {},
   "outputs": [
    {
     "data": {
      "text/plain": [
       "208    15\n",
       "51      1\n",
       "49      1\n",
       "34      1\n",
       "129     1\n",
       "Name: passenger_count, dtype: int64"
      ]
     },
     "execution_count": 11,
     "metadata": {},
     "output_type": "execute_result"
    }
   ],
   "source": [
    "df_raw[df_raw.passenger_count>10].passenger_count.value_counts()"
   ]
  },
  {
   "cell_type": "code",
   "execution_count": 12,
   "metadata": {},
   "outputs": [
    {
     "data": {
      "text/html": [
       "<div>\n",
       "<style scoped>\n",
       "    .dataframe tbody tr th:only-of-type {\n",
       "        vertical-align: middle;\n",
       "    }\n",
       "\n",
       "    .dataframe tbody tr th {\n",
       "        vertical-align: top;\n",
       "    }\n",
       "\n",
       "    .dataframe thead th {\n",
       "        text-align: right;\n",
       "    }\n",
       "</style>\n",
       "<table border=\"1\" class=\"dataframe\">\n",
       "  <thead>\n",
       "    <tr style=\"text-align: right;\">\n",
       "      <th></th>\n",
       "      <th>fare_amount</th>\n",
       "      <th>pickup_longitude</th>\n",
       "      <th>pickup_latitude</th>\n",
       "      <th>dropoff_longitude</th>\n",
       "      <th>dropoff_latitude</th>\n",
       "    </tr>\n",
       "    <tr>\n",
       "      <th>passenger_count</th>\n",
       "      <th></th>\n",
       "      <th></th>\n",
       "      <th></th>\n",
       "      <th></th>\n",
       "      <th></th>\n",
       "    </tr>\n",
       "  </thead>\n",
       "  <tbody>\n",
       "    <tr>\n",
       "      <th>0</th>\n",
       "      <td>8.992668</td>\n",
       "      <td>-72.672318</td>\n",
       "      <td>40.033203</td>\n",
       "      <td>-72.637901</td>\n",
       "      <td>40.015118</td>\n",
       "    </tr>\n",
       "    <tr>\n",
       "      <th>1</th>\n",
       "      <td>11.217378</td>\n",
       "      <td>-72.496201</td>\n",
       "      <td>39.916771</td>\n",
       "      <td>-72.494148</td>\n",
       "      <td>39.913269</td>\n",
       "    </tr>\n",
       "    <tr>\n",
       "      <th>2</th>\n",
       "      <td>11.824029</td>\n",
       "      <td>-72.594322</td>\n",
       "      <td>39.965149</td>\n",
       "      <td>-72.606537</td>\n",
       "      <td>39.973408</td>\n",
       "    </tr>\n",
       "    <tr>\n",
       "      <th>3</th>\n",
       "      <td>11.544141</td>\n",
       "      <td>-72.570137</td>\n",
       "      <td>39.954163</td>\n",
       "      <td>-72.589783</td>\n",
       "      <td>39.965214</td>\n",
       "    </tr>\n",
       "    <tr>\n",
       "      <th>4</th>\n",
       "      <td>11.779797</td>\n",
       "      <td>-72.596725</td>\n",
       "      <td>39.964191</td>\n",
       "      <td>-72.623253</td>\n",
       "      <td>39.978653</td>\n",
       "    </tr>\n",
       "    <tr>\n",
       "      <th>5</th>\n",
       "      <td>11.207222</td>\n",
       "      <td>-72.409363</td>\n",
       "      <td>39.838177</td>\n",
       "      <td>-72.388542</td>\n",
       "      <td>39.839916</td>\n",
       "    </tr>\n",
       "    <tr>\n",
       "      <th>6</th>\n",
       "      <td>12.119719</td>\n",
       "      <td>-72.547691</td>\n",
       "      <td>39.889427</td>\n",
       "      <td>-72.495483</td>\n",
       "      <td>39.849689</td>\n",
       "    </tr>\n",
       "    <tr>\n",
       "      <th>7</th>\n",
       "      <td>29.375000</td>\n",
       "      <td>-74.038147</td>\n",
       "      <td>40.728302</td>\n",
       "      <td>-74.033234</td>\n",
       "      <td>40.718956</td>\n",
       "    </tr>\n",
       "    <tr>\n",
       "      <th>8</th>\n",
       "      <td>26.110001</td>\n",
       "      <td>-73.929840</td>\n",
       "      <td>40.719902</td>\n",
       "      <td>-73.986511</td>\n",
       "      <td>40.730785</td>\n",
       "    </tr>\n",
       "    <tr>\n",
       "      <th>9</th>\n",
       "      <td>37.473999</td>\n",
       "      <td>-73.964371</td>\n",
       "      <td>40.758514</td>\n",
       "      <td>-73.993561</td>\n",
       "      <td>40.757141</td>\n",
       "    </tr>\n",
       "    <tr>\n",
       "      <th>34</th>\n",
       "      <td>13.300000</td>\n",
       "      <td>-73.959862</td>\n",
       "      <td>40.767532</td>\n",
       "      <td>-73.937843</td>\n",
       "      <td>54.787018</td>\n",
       "    </tr>\n",
       "    <tr>\n",
       "      <th>49</th>\n",
       "      <td>2.500000</td>\n",
       "      <td>0.000000</td>\n",
       "      <td>0.000000</td>\n",
       "      <td>0.000000</td>\n",
       "      <td>0.000000</td>\n",
       "    </tr>\n",
       "    <tr>\n",
       "      <th>51</th>\n",
       "      <td>9.300000</td>\n",
       "      <td>0.554830</td>\n",
       "      <td>0.000000</td>\n",
       "      <td>-2069.479004</td>\n",
       "      <td>28.121107</td>\n",
       "    </tr>\n",
       "    <tr>\n",
       "      <th>129</th>\n",
       "      <td>8.500000</td>\n",
       "      <td>-73.987862</td>\n",
       "      <td>40.760342</td>\n",
       "      <td>-74.000679</td>\n",
       "      <td>40.752415</td>\n",
       "    </tr>\n",
       "    <tr>\n",
       "      <th>208</th>\n",
       "      <td>8.846666</td>\n",
       "      <td>-27.398886</td>\n",
       "      <td>13.283379</td>\n",
       "      <td>-27.398884</td>\n",
       "      <td>13.283378</td>\n",
       "    </tr>\n",
       "  </tbody>\n",
       "</table>\n",
       "</div>"
      ],
      "text/plain": [
       "                 fare_amount  pickup_longitude  pickup_latitude  \\\n",
       "passenger_count                                                   \n",
       "0                   8.992668        -72.672318        40.033203   \n",
       "1                  11.217378        -72.496201        39.916771   \n",
       "2                  11.824029        -72.594322        39.965149   \n",
       "3                  11.544141        -72.570137        39.954163   \n",
       "4                  11.779797        -72.596725        39.964191   \n",
       "5                  11.207222        -72.409363        39.838177   \n",
       "6                  12.119719        -72.547691        39.889427   \n",
       "7                  29.375000        -74.038147        40.728302   \n",
       "8                  26.110001        -73.929840        40.719902   \n",
       "9                  37.473999        -73.964371        40.758514   \n",
       "34                 13.300000        -73.959862        40.767532   \n",
       "49                  2.500000          0.000000         0.000000   \n",
       "51                  9.300000          0.554830         0.000000   \n",
       "129                 8.500000        -73.987862        40.760342   \n",
       "208                 8.846666        -27.398886        13.283379   \n",
       "\n",
       "                 dropoff_longitude  dropoff_latitude  \n",
       "passenger_count                                       \n",
       "0                       -72.637901         40.015118  \n",
       "1                       -72.494148         39.913269  \n",
       "2                       -72.606537         39.973408  \n",
       "3                       -72.589783         39.965214  \n",
       "4                       -72.623253         39.978653  \n",
       "5                       -72.388542         39.839916  \n",
       "6                       -72.495483         39.849689  \n",
       "7                       -74.033234         40.718956  \n",
       "8                       -73.986511         40.730785  \n",
       "9                       -73.993561         40.757141  \n",
       "34                      -73.937843         54.787018  \n",
       "49                        0.000000          0.000000  \n",
       "51                    -2069.479004         28.121107  \n",
       "129                     -74.000679         40.752415  \n",
       "208                     -27.398884         13.283378  "
      ]
     },
     "execution_count": 12,
     "metadata": {},
     "output_type": "execute_result"
    }
   ],
   "source": [
    "df_raw.groupby(['passenger_count']).mean()"
   ]
  },
  {
   "cell_type": "code",
   "execution_count": 13,
   "metadata": {
    "scrolled": true
   },
   "outputs": [
    {
     "data": {
      "text/plain": [
       "1      13832062\n",
       "2       2951606\n",
       "5       1417620\n",
       "3        878562\n",
       "4        425043\n",
       "6        423651\n",
       "0         70454\n",
       "208          15\n",
       "9             5\n",
       "7             4\n",
       "8             3\n",
       "129           1\n",
       "51            1\n",
       "49            1\n",
       "34            1\n",
       "Name: passenger_count, dtype: int64"
      ]
     },
     "execution_count": 13,
     "metadata": {},
     "output_type": "execute_result"
    }
   ],
   "source": [
    "df_raw.passenger_count.value_counts()"
   ]
  },
  {
   "cell_type": "markdown",
   "metadata": {},
   "source": [
    "With so many 0 passenger_values and a non-null fare_amount mean for them, we should not remove the rides with 0 values."
   ]
  },
  {
   "cell_type": "code",
   "execution_count": 14,
   "metadata": {},
   "outputs": [],
   "source": [
    "df_raw = df_raw[df_raw.passenger_count<7]"
   ]
  },
  {
   "cell_type": "markdown",
   "metadata": {},
   "source": [
    "## Feature Engineering"
   ]
  },
  {
   "cell_type": "code",
   "execution_count": 15,
   "metadata": {},
   "outputs": [
    {
     "name": "stdout",
     "output_type": "stream",
     "text": [
      "Wall time: 1min 52s\n"
     ]
    }
   ],
   "source": [
    "%time add_datepart(df_raw,'pickup_datetime',drop=True, time=True)"
   ]
  },
  {
   "cell_type": "code",
   "execution_count": 16,
   "metadata": {},
   "outputs": [
    {
     "data": {
      "text/html": [
       "<div>\n",
       "<style scoped>\n",
       "    .dataframe tbody tr th:only-of-type {\n",
       "        vertical-align: middle;\n",
       "    }\n",
       "\n",
       "    .dataframe tbody tr th {\n",
       "        vertical-align: top;\n",
       "    }\n",
       "\n",
       "    .dataframe thead th {\n",
       "        text-align: right;\n",
       "    }\n",
       "</style>\n",
       "<table border=\"1\" class=\"dataframe\">\n",
       "  <thead>\n",
       "    <tr style=\"text-align: right;\">\n",
       "      <th></th>\n",
       "      <th>0</th>\n",
       "      <th>1</th>\n",
       "      <th>2</th>\n",
       "      <th>3</th>\n",
       "      <th>4</th>\n",
       "    </tr>\n",
       "  </thead>\n",
       "  <tbody>\n",
       "    <tr>\n",
       "      <th>fare_amount</th>\n",
       "      <td>4.5</td>\n",
       "      <td>16.9</td>\n",
       "      <td>5.7</td>\n",
       "      <td>7.7</td>\n",
       "      <td>5.3</td>\n",
       "    </tr>\n",
       "    <tr>\n",
       "      <th>pickup_longitude</th>\n",
       "      <td>-73.8443</td>\n",
       "      <td>-74.016</td>\n",
       "      <td>-73.9827</td>\n",
       "      <td>-73.9871</td>\n",
       "      <td>-73.9681</td>\n",
       "    </tr>\n",
       "    <tr>\n",
       "      <th>pickup_latitude</th>\n",
       "      <td>40.7213</td>\n",
       "      <td>40.7113</td>\n",
       "      <td>40.7613</td>\n",
       "      <td>40.7331</td>\n",
       "      <td>40.768</td>\n",
       "    </tr>\n",
       "    <tr>\n",
       "      <th>dropoff_longitude</th>\n",
       "      <td>-73.8416</td>\n",
       "      <td>-73.9793</td>\n",
       "      <td>-73.9912</td>\n",
       "      <td>-73.9916</td>\n",
       "      <td>-73.9567</td>\n",
       "    </tr>\n",
       "    <tr>\n",
       "      <th>dropoff_latitude</th>\n",
       "      <td>40.7123</td>\n",
       "      <td>40.782</td>\n",
       "      <td>40.7506</td>\n",
       "      <td>40.7581</td>\n",
       "      <td>40.7838</td>\n",
       "    </tr>\n",
       "    <tr>\n",
       "      <th>passenger_count</th>\n",
       "      <td>1</td>\n",
       "      <td>1</td>\n",
       "      <td>2</td>\n",
       "      <td>1</td>\n",
       "      <td>1</td>\n",
       "    </tr>\n",
       "    <tr>\n",
       "      <th>pickup_datetimeYear</th>\n",
       "      <td>2009</td>\n",
       "      <td>2010</td>\n",
       "      <td>2011</td>\n",
       "      <td>2012</td>\n",
       "      <td>2010</td>\n",
       "    </tr>\n",
       "    <tr>\n",
       "      <th>pickup_datetimeMonth</th>\n",
       "      <td>6</td>\n",
       "      <td>1</td>\n",
       "      <td>8</td>\n",
       "      <td>4</td>\n",
       "      <td>3</td>\n",
       "    </tr>\n",
       "    <tr>\n",
       "      <th>pickup_datetimeWeek</th>\n",
       "      <td>25</td>\n",
       "      <td>1</td>\n",
       "      <td>33</td>\n",
       "      <td>16</td>\n",
       "      <td>10</td>\n",
       "    </tr>\n",
       "    <tr>\n",
       "      <th>pickup_datetimeDay</th>\n",
       "      <td>15</td>\n",
       "      <td>5</td>\n",
       "      <td>18</td>\n",
       "      <td>21</td>\n",
       "      <td>9</td>\n",
       "    </tr>\n",
       "    <tr>\n",
       "      <th>pickup_datetimeDayofweek</th>\n",
       "      <td>0</td>\n",
       "      <td>1</td>\n",
       "      <td>3</td>\n",
       "      <td>5</td>\n",
       "      <td>1</td>\n",
       "    </tr>\n",
       "    <tr>\n",
       "      <th>pickup_datetimeDayofyear</th>\n",
       "      <td>166</td>\n",
       "      <td>5</td>\n",
       "      <td>230</td>\n",
       "      <td>112</td>\n",
       "      <td>68</td>\n",
       "    </tr>\n",
       "    <tr>\n",
       "      <th>pickup_datetimeIs_month_end</th>\n",
       "      <td>False</td>\n",
       "      <td>False</td>\n",
       "      <td>False</td>\n",
       "      <td>False</td>\n",
       "      <td>False</td>\n",
       "    </tr>\n",
       "    <tr>\n",
       "      <th>pickup_datetimeIs_month_start</th>\n",
       "      <td>False</td>\n",
       "      <td>False</td>\n",
       "      <td>False</td>\n",
       "      <td>False</td>\n",
       "      <td>False</td>\n",
       "    </tr>\n",
       "    <tr>\n",
       "      <th>pickup_datetimeIs_quarter_end</th>\n",
       "      <td>False</td>\n",
       "      <td>False</td>\n",
       "      <td>False</td>\n",
       "      <td>False</td>\n",
       "      <td>False</td>\n",
       "    </tr>\n",
       "    <tr>\n",
       "      <th>pickup_datetimeIs_quarter_start</th>\n",
       "      <td>False</td>\n",
       "      <td>False</td>\n",
       "      <td>False</td>\n",
       "      <td>False</td>\n",
       "      <td>False</td>\n",
       "    </tr>\n",
       "    <tr>\n",
       "      <th>pickup_datetimeIs_year_end</th>\n",
       "      <td>False</td>\n",
       "      <td>False</td>\n",
       "      <td>False</td>\n",
       "      <td>False</td>\n",
       "      <td>False</td>\n",
       "    </tr>\n",
       "    <tr>\n",
       "      <th>pickup_datetimeIs_year_start</th>\n",
       "      <td>False</td>\n",
       "      <td>False</td>\n",
       "      <td>False</td>\n",
       "      <td>False</td>\n",
       "      <td>False</td>\n",
       "    </tr>\n",
       "    <tr>\n",
       "      <th>pickup_datetimeHour</th>\n",
       "      <td>17</td>\n",
       "      <td>16</td>\n",
       "      <td>0</td>\n",
       "      <td>4</td>\n",
       "      <td>7</td>\n",
       "    </tr>\n",
       "    <tr>\n",
       "      <th>pickup_datetimeMinute</th>\n",
       "      <td>26</td>\n",
       "      <td>52</td>\n",
       "      <td>35</td>\n",
       "      <td>30</td>\n",
       "      <td>51</td>\n",
       "    </tr>\n",
       "    <tr>\n",
       "      <th>pickup_datetimeSecond</th>\n",
       "      <td>21</td>\n",
       "      <td>16</td>\n",
       "      <td>0</td>\n",
       "      <td>42</td>\n",
       "      <td>0</td>\n",
       "    </tr>\n",
       "    <tr>\n",
       "      <th>pickup_datetimeElapsed</th>\n",
       "      <td>1245086781</td>\n",
       "      <td>1262710336</td>\n",
       "      <td>1313627700</td>\n",
       "      <td>1334982642</td>\n",
       "      <td>1268121060</td>\n",
       "    </tr>\n",
       "  </tbody>\n",
       "</table>\n",
       "</div>"
      ],
      "text/plain": [
       "                                          0           1           2  \\\n",
       "fare_amount                             4.5        16.9         5.7   \n",
       "pickup_longitude                   -73.8443     -74.016    -73.9827   \n",
       "pickup_latitude                     40.7213     40.7113     40.7613   \n",
       "dropoff_longitude                  -73.8416    -73.9793    -73.9912   \n",
       "dropoff_latitude                    40.7123      40.782     40.7506   \n",
       "passenger_count                           1           1           2   \n",
       "pickup_datetimeYear                    2009        2010        2011   \n",
       "pickup_datetimeMonth                      6           1           8   \n",
       "pickup_datetimeWeek                      25           1          33   \n",
       "pickup_datetimeDay                       15           5          18   \n",
       "pickup_datetimeDayofweek                  0           1           3   \n",
       "pickup_datetimeDayofyear                166           5         230   \n",
       "pickup_datetimeIs_month_end           False       False       False   \n",
       "pickup_datetimeIs_month_start         False       False       False   \n",
       "pickup_datetimeIs_quarter_end         False       False       False   \n",
       "pickup_datetimeIs_quarter_start       False       False       False   \n",
       "pickup_datetimeIs_year_end            False       False       False   \n",
       "pickup_datetimeIs_year_start          False       False       False   \n",
       "pickup_datetimeHour                      17          16           0   \n",
       "pickup_datetimeMinute                    26          52          35   \n",
       "pickup_datetimeSecond                    21          16           0   \n",
       "pickup_datetimeElapsed           1245086781  1262710336  1313627700   \n",
       "\n",
       "                                          3           4  \n",
       "fare_amount                             7.7         5.3  \n",
       "pickup_longitude                   -73.9871    -73.9681  \n",
       "pickup_latitude                     40.7331      40.768  \n",
       "dropoff_longitude                  -73.9916    -73.9567  \n",
       "dropoff_latitude                    40.7581     40.7838  \n",
       "passenger_count                           1           1  \n",
       "pickup_datetimeYear                    2012        2010  \n",
       "pickup_datetimeMonth                      4           3  \n",
       "pickup_datetimeWeek                      16          10  \n",
       "pickup_datetimeDay                       21           9  \n",
       "pickup_datetimeDayofweek                  5           1  \n",
       "pickup_datetimeDayofyear                112          68  \n",
       "pickup_datetimeIs_month_end           False       False  \n",
       "pickup_datetimeIs_month_start         False       False  \n",
       "pickup_datetimeIs_quarter_end         False       False  \n",
       "pickup_datetimeIs_quarter_start       False       False  \n",
       "pickup_datetimeIs_year_end            False       False  \n",
       "pickup_datetimeIs_year_start          False       False  \n",
       "pickup_datetimeHour                       4           7  \n",
       "pickup_datetimeMinute                    30          51  \n",
       "pickup_datetimeSecond                    42           0  \n",
       "pickup_datetimeElapsed           1334982642  1268121060  "
      ]
     },
     "metadata": {},
     "output_type": "display_data"
    }
   ],
   "source": [
    "display_all(df_raw.head(5).T)"
   ]
  },
  {
   "cell_type": "code",
   "execution_count": 17,
   "metadata": {},
   "outputs": [],
   "source": [
    "def distance_traversed(lat1,lon1,lat2,lon2):\n",
    "    '''Harvesine formula'''\n",
    "    radius = 6371 # km\n",
    "    dlat = math.radians(lat2-lat1)\n",
    "    dlon = math.radians(lon2-lon1)\n",
    "    a = math.sin(dlat/2) * math.sin(dlat/2) + math.cos(math.radians(lat1)) \\\n",
    "        * math.cos(math.radians(lat2)) * math.sin(dlon/2) * math.sin(dlon/2)\n",
    "    c = 2 * math.atan2(math.sqrt(a), math.sqrt(1-a))\n",
    "    d = radius * c\n",
    "    return d"
   ]
  },
  {
   "cell_type": "code",
   "execution_count": 18,
   "metadata": {},
   "outputs": [],
   "source": [
    "def airport(name,lat1,lon1,lat2,lon2):\n",
    "    '''Function to determine if either pickup or dropoff is near an airport'''\n",
    "    if name == 'nyc':\n",
    "        long, lat = -74.0063889, 40.7141667\n",
    "    elif name == 'jfk':    \n",
    "        long, lat = -73.7822222222, 40.6441666667\n",
    "    elif name == 'ewr':    \n",
    "        long, lat = -74.175, 40.69\n",
    "    elif name == 'lgr':    \n",
    "        long, lat = -73.87, 40.77\n",
    "    return min(distance_traversed(lat,long,lat2,lon2),distance_traversed(lat1,lon1,lat,long))<1.5"
   ]
  },
  {
   "cell_type": "code",
   "execution_count": 19,
   "metadata": {},
   "outputs": [],
   "source": [
    "def features(data):\n",
    "    data['longitutde_traversed'] = (data.dropoff_longitude - data.pickup_longitude).abs()\n",
    "    data['latitude_traversed'] = (data.dropoff_latitude - data.pickup_latitude).abs()\n",
    "    data['distance_traversed'] = np.vectorize(distance_traversed)(data.pickup_latitude,data.pickup_longitude,data.dropoff_latitude,data.dropoff_longitude)\n",
    "    data['near_nyc'] = np.vectorize(airport)('nyc',data.pickup_latitude,data.pickup_longitude,data.dropoff_latitude,data.dropoff_longitude)\n",
    "    data['near_jfk'] = np.vectorize(airport)('jfk',data.pickup_latitude,data.pickup_longitude,data.dropoff_latitude,data.dropoff_longitude)\n",
    "    data['near_ewr'] = np.vectorize(airport)('ewr',data.pickup_latitude,data.pickup_longitude,data.dropoff_latitude,data.dropoff_longitude)\n",
    "    data['near_lgr'] = np.vectorize(airport)('lgr',data.pickup_latitude,data.pickup_longitude,data.dropoff_latitude,data.dropoff_longitude)"
   ]
  },
  {
   "cell_type": "code",
   "execution_count": 20,
   "metadata": {},
   "outputs": [
    {
     "name": "stdout",
     "output_type": "stream",
     "text": [
      "Wall time: 7min 59s\n"
     ]
    }
   ],
   "source": [
    "%time features(df_raw)"
   ]
  },
  {
   "cell_type": "code",
   "execution_count": 21,
   "metadata": {},
   "outputs": [
    {
     "data": {
      "text/html": [
       "<div>\n",
       "<style scoped>\n",
       "    .dataframe tbody tr th:only-of-type {\n",
       "        vertical-align: middle;\n",
       "    }\n",
       "\n",
       "    .dataframe tbody tr th {\n",
       "        vertical-align: top;\n",
       "    }\n",
       "\n",
       "    .dataframe thead th {\n",
       "        text-align: right;\n",
       "    }\n",
       "</style>\n",
       "<table border=\"1\" class=\"dataframe\">\n",
       "  <thead>\n",
       "    <tr style=\"text-align: right;\">\n",
       "      <th></th>\n",
       "      <th>0</th>\n",
       "      <th>1</th>\n",
       "    </tr>\n",
       "  </thead>\n",
       "  <tbody>\n",
       "    <tr>\n",
       "      <th>fare_amount</th>\n",
       "      <td>4.5</td>\n",
       "      <td>16.9</td>\n",
       "    </tr>\n",
       "    <tr>\n",
       "      <th>pickup_longitude</th>\n",
       "      <td>-73.8443</td>\n",
       "      <td>-74.016</td>\n",
       "    </tr>\n",
       "    <tr>\n",
       "      <th>pickup_latitude</th>\n",
       "      <td>40.7213</td>\n",
       "      <td>40.7113</td>\n",
       "    </tr>\n",
       "    <tr>\n",
       "      <th>dropoff_longitude</th>\n",
       "      <td>-73.8416</td>\n",
       "      <td>-73.9793</td>\n",
       "    </tr>\n",
       "    <tr>\n",
       "      <th>dropoff_latitude</th>\n",
       "      <td>40.7123</td>\n",
       "      <td>40.782</td>\n",
       "    </tr>\n",
       "    <tr>\n",
       "      <th>passenger_count</th>\n",
       "      <td>1</td>\n",
       "      <td>1</td>\n",
       "    </tr>\n",
       "    <tr>\n",
       "      <th>pickup_datetimeYear</th>\n",
       "      <td>2009</td>\n",
       "      <td>2010</td>\n",
       "    </tr>\n",
       "    <tr>\n",
       "      <th>pickup_datetimeMonth</th>\n",
       "      <td>6</td>\n",
       "      <td>1</td>\n",
       "    </tr>\n",
       "    <tr>\n",
       "      <th>pickup_datetimeWeek</th>\n",
       "      <td>25</td>\n",
       "      <td>1</td>\n",
       "    </tr>\n",
       "    <tr>\n",
       "      <th>pickup_datetimeDay</th>\n",
       "      <td>15</td>\n",
       "      <td>5</td>\n",
       "    </tr>\n",
       "    <tr>\n",
       "      <th>pickup_datetimeDayofweek</th>\n",
       "      <td>0</td>\n",
       "      <td>1</td>\n",
       "    </tr>\n",
       "    <tr>\n",
       "      <th>pickup_datetimeDayofyear</th>\n",
       "      <td>166</td>\n",
       "      <td>5</td>\n",
       "    </tr>\n",
       "    <tr>\n",
       "      <th>pickup_datetimeIs_month_end</th>\n",
       "      <td>False</td>\n",
       "      <td>False</td>\n",
       "    </tr>\n",
       "    <tr>\n",
       "      <th>pickup_datetimeIs_month_start</th>\n",
       "      <td>False</td>\n",
       "      <td>False</td>\n",
       "    </tr>\n",
       "    <tr>\n",
       "      <th>pickup_datetimeIs_quarter_end</th>\n",
       "      <td>False</td>\n",
       "      <td>False</td>\n",
       "    </tr>\n",
       "    <tr>\n",
       "      <th>pickup_datetimeIs_quarter_start</th>\n",
       "      <td>False</td>\n",
       "      <td>False</td>\n",
       "    </tr>\n",
       "    <tr>\n",
       "      <th>pickup_datetimeIs_year_end</th>\n",
       "      <td>False</td>\n",
       "      <td>False</td>\n",
       "    </tr>\n",
       "    <tr>\n",
       "      <th>pickup_datetimeIs_year_start</th>\n",
       "      <td>False</td>\n",
       "      <td>False</td>\n",
       "    </tr>\n",
       "    <tr>\n",
       "      <th>pickup_datetimeHour</th>\n",
       "      <td>17</td>\n",
       "      <td>16</td>\n",
       "    </tr>\n",
       "    <tr>\n",
       "      <th>pickup_datetimeMinute</th>\n",
       "      <td>26</td>\n",
       "      <td>52</td>\n",
       "    </tr>\n",
       "    <tr>\n",
       "      <th>pickup_datetimeSecond</th>\n",
       "      <td>21</td>\n",
       "      <td>16</td>\n",
       "    </tr>\n",
       "    <tr>\n",
       "      <th>pickup_datetimeElapsed</th>\n",
       "      <td>1245086781</td>\n",
       "      <td>1262710336</td>\n",
       "    </tr>\n",
       "    <tr>\n",
       "      <th>longitutde_traversed</th>\n",
       "      <td>0.00270081</td>\n",
       "      <td>0.0367737</td>\n",
       "    </tr>\n",
       "    <tr>\n",
       "      <th>latitude_traversed</th>\n",
       "      <td>0.00904083</td>\n",
       "      <td>0.0707016</td>\n",
       "    </tr>\n",
       "    <tr>\n",
       "      <th>distance_traversed</th>\n",
       "      <td>1.03074</td>\n",
       "      <td>8.45</td>\n",
       "    </tr>\n",
       "    <tr>\n",
       "      <th>near_nyc</th>\n",
       "      <td>False</td>\n",
       "      <td>True</td>\n",
       "    </tr>\n",
       "    <tr>\n",
       "      <th>near_jfk</th>\n",
       "      <td>False</td>\n",
       "      <td>False</td>\n",
       "    </tr>\n",
       "    <tr>\n",
       "      <th>near_ewr</th>\n",
       "      <td>False</td>\n",
       "      <td>False</td>\n",
       "    </tr>\n",
       "    <tr>\n",
       "      <th>near_lgr</th>\n",
       "      <td>False</td>\n",
       "      <td>False</td>\n",
       "    </tr>\n",
       "  </tbody>\n",
       "</table>\n",
       "</div>"
      ],
      "text/plain": [
       "                                          0           1\n",
       "fare_amount                             4.5        16.9\n",
       "pickup_longitude                   -73.8443     -74.016\n",
       "pickup_latitude                     40.7213     40.7113\n",
       "dropoff_longitude                  -73.8416    -73.9793\n",
       "dropoff_latitude                    40.7123      40.782\n",
       "passenger_count                           1           1\n",
       "pickup_datetimeYear                    2009        2010\n",
       "pickup_datetimeMonth                      6           1\n",
       "pickup_datetimeWeek                      25           1\n",
       "pickup_datetimeDay                       15           5\n",
       "pickup_datetimeDayofweek                  0           1\n",
       "pickup_datetimeDayofyear                166           5\n",
       "pickup_datetimeIs_month_end           False       False\n",
       "pickup_datetimeIs_month_start         False       False\n",
       "pickup_datetimeIs_quarter_end         False       False\n",
       "pickup_datetimeIs_quarter_start       False       False\n",
       "pickup_datetimeIs_year_end            False       False\n",
       "pickup_datetimeIs_year_start          False       False\n",
       "pickup_datetimeHour                      17          16\n",
       "pickup_datetimeMinute                    26          52\n",
       "pickup_datetimeSecond                    21          16\n",
       "pickup_datetimeElapsed           1245086781  1262710336\n",
       "longitutde_traversed             0.00270081   0.0367737\n",
       "latitude_traversed               0.00904083   0.0707016\n",
       "distance_traversed                  1.03074        8.45\n",
       "near_nyc                              False        True\n",
       "near_jfk                              False       False\n",
       "near_ewr                              False       False\n",
       "near_lgr                              False       False"
      ]
     },
     "metadata": {},
     "output_type": "display_data"
    }
   ],
   "source": [
    "display_all(df_raw.head(2).T)"
   ]
  },
  {
   "cell_type": "code",
   "execution_count": 23,
   "metadata": {},
   "outputs": [],
   "source": [
    "#os.makedirs('tmp',exist_ok=True)\n",
    "#df_raw.to_feather('tmp/raw')"
   ]
  },
  {
   "cell_type": "markdown",
   "metadata": {},
   "source": [
    "## Validation Set"
   ]
  },
  {
   "cell_type": "markdown",
   "metadata": {},
   "source": [
    "Let's create a validation set which is representative of our data. Let's split on the passenger_count variable."
   ]
  },
  {
   "cell_type": "code",
   "execution_count": 24,
   "metadata": {
    "scrolled": false
   },
   "outputs": [
    {
     "data": {
      "text/plain": [
       "1    0.691638\n",
       "2    0.147588\n",
       "5    0.070885\n",
       "3    0.043930\n",
       "4    0.021253\n",
       "6    0.021184\n",
       "0    0.003523\n",
       "Name: passenger_count, dtype: float64"
      ]
     },
     "execution_count": 24,
     "metadata": {},
     "output_type": "execute_result"
    }
   ],
   "source": [
    "df_raw.passenger_count.value_counts()/len(df_raw)"
   ]
  },
  {
   "cell_type": "code",
   "execution_count": 39,
   "metadata": {},
   "outputs": [
    {
     "ename": "MemoryError",
     "evalue": "",
     "output_type": "error",
     "traceback": [
      "\u001b[1;31m---------------------------------------------------------------------------\u001b[0m",
      "\u001b[1;31mMemoryError\u001b[0m                               Traceback (most recent call last)",
      "\u001b[1;32m<ipython-input-39-8c5efd62672c>\u001b[0m in \u001b[0;36m<module>\u001b[1;34m()\u001b[0m\n\u001b[0;32m      1\u001b[0m \u001b[0msplit\u001b[0m \u001b[1;33m=\u001b[0m \u001b[0mStratifiedShuffleSplit\u001b[0m\u001b[1;33m(\u001b[0m\u001b[0mn_splits\u001b[0m\u001b[1;33m=\u001b[0m\u001b[1;36m1\u001b[0m\u001b[1;33m,\u001b[0m \u001b[0mtest_size\u001b[0m\u001b[1;33m=\u001b[0m\u001b[1;36m10000\u001b[0m\u001b[1;33m,\u001b[0m \u001b[0mrandom_state\u001b[0m\u001b[1;33m=\u001b[0m\u001b[1;36m42\u001b[0m\u001b[1;33m)\u001b[0m\u001b[1;33m\u001b[0m\u001b[0m\n\u001b[1;32m----> 2\u001b[1;33m \u001b[1;32mfor\u001b[0m \u001b[0mtrain_index\u001b[0m\u001b[1;33m,\u001b[0m \u001b[0mtest_index\u001b[0m \u001b[1;32min\u001b[0m \u001b[0msplit\u001b[0m\u001b[1;33m.\u001b[0m\u001b[0msplit\u001b[0m\u001b[1;33m(\u001b[0m\u001b[0mdf_raw\u001b[0m\u001b[1;33m,\u001b[0m \u001b[0mdf_raw\u001b[0m\u001b[1;33m.\u001b[0m\u001b[0mpassenger_count\u001b[0m\u001b[1;33m)\u001b[0m\u001b[1;33m:\u001b[0m\u001b[1;33m\u001b[0m\u001b[0m\n\u001b[0m\u001b[0;32m      3\u001b[0m     \u001b[0mtrain_set\u001b[0m \u001b[1;33m=\u001b[0m \u001b[0mdf_raw\u001b[0m\u001b[1;33m.\u001b[0m\u001b[0mloc\u001b[0m\u001b[1;33m[\u001b[0m\u001b[0mtrain_index\u001b[0m\u001b[1;33m]\u001b[0m\u001b[1;33m\u001b[0m\u001b[0m\n\u001b[0;32m      4\u001b[0m     \u001b[0mtest_set\u001b[0m \u001b[1;33m=\u001b[0m \u001b[0mdf_raw\u001b[0m\u001b[1;33m.\u001b[0m\u001b[0mloc\u001b[0m\u001b[1;33m[\u001b[0m\u001b[0mtest_index\u001b[0m\u001b[1;33m]\u001b[0m\u001b[1;33m\u001b[0m\u001b[0m\n",
      "\u001b[1;32m~\\Anaconda3\\envs\\fastai\\lib\\site-packages\\sklearn\\model_selection\\_split.py\u001b[0m in \u001b[0;36msplit\u001b[1;34m(self, X, y, groups)\u001b[0m\n\u001b[0;32m   1202\u001b[0m         \"\"\"\n\u001b[0;32m   1203\u001b[0m         \u001b[0mX\u001b[0m\u001b[1;33m,\u001b[0m \u001b[0my\u001b[0m\u001b[1;33m,\u001b[0m \u001b[0mgroups\u001b[0m \u001b[1;33m=\u001b[0m \u001b[0mindexable\u001b[0m\u001b[1;33m(\u001b[0m\u001b[0mX\u001b[0m\u001b[1;33m,\u001b[0m \u001b[0my\u001b[0m\u001b[1;33m,\u001b[0m \u001b[0mgroups\u001b[0m\u001b[1;33m)\u001b[0m\u001b[1;33m\u001b[0m\u001b[0m\n\u001b[1;32m-> 1204\u001b[1;33m         \u001b[1;32mfor\u001b[0m \u001b[0mtrain\u001b[0m\u001b[1;33m,\u001b[0m \u001b[0mtest\u001b[0m \u001b[1;32min\u001b[0m \u001b[0mself\u001b[0m\u001b[1;33m.\u001b[0m\u001b[0m_iter_indices\u001b[0m\u001b[1;33m(\u001b[0m\u001b[0mX\u001b[0m\u001b[1;33m,\u001b[0m \u001b[0my\u001b[0m\u001b[1;33m,\u001b[0m \u001b[0mgroups\u001b[0m\u001b[1;33m)\u001b[0m\u001b[1;33m:\u001b[0m\u001b[1;33m\u001b[0m\u001b[0m\n\u001b[0m\u001b[0;32m   1205\u001b[0m             \u001b[1;32myield\u001b[0m \u001b[0mtrain\u001b[0m\u001b[1;33m,\u001b[0m \u001b[0mtest\u001b[0m\u001b[1;33m\u001b[0m\u001b[0m\n\u001b[0;32m   1206\u001b[0m \u001b[1;33m\u001b[0m\u001b[0m\n",
      "\u001b[1;32m~\\Anaconda3\\envs\\fastai\\lib\\site-packages\\sklearn\\model_selection\\_split.py\u001b[0m in \u001b[0;36m_iter_indices\u001b[1;34m(self, X, y, groups)\u001b[0m\n\u001b[0;32m   1580\u001b[0m                                                              mode='clip')\n\u001b[0;32m   1581\u001b[0m \u001b[1;33m\u001b[0m\u001b[0m\n\u001b[1;32m-> 1582\u001b[1;33m                 \u001b[0mtrain\u001b[0m\u001b[1;33m.\u001b[0m\u001b[0mextend\u001b[0m\u001b[1;33m(\u001b[0m\u001b[0mperm_indices_class_i\u001b[0m\u001b[1;33m[\u001b[0m\u001b[1;33m:\u001b[0m\u001b[0mn_i\u001b[0m\u001b[1;33m[\u001b[0m\u001b[0mi\u001b[0m\u001b[1;33m]\u001b[0m\u001b[1;33m]\u001b[0m\u001b[1;33m)\u001b[0m\u001b[1;33m\u001b[0m\u001b[0m\n\u001b[0m\u001b[0;32m   1583\u001b[0m                 \u001b[0mtest\u001b[0m\u001b[1;33m.\u001b[0m\u001b[0mextend\u001b[0m\u001b[1;33m(\u001b[0m\u001b[0mperm_indices_class_i\u001b[0m\u001b[1;33m[\u001b[0m\u001b[0mn_i\u001b[0m\u001b[1;33m[\u001b[0m\u001b[0mi\u001b[0m\u001b[1;33m]\u001b[0m\u001b[1;33m:\u001b[0m\u001b[0mn_i\u001b[0m\u001b[1;33m[\u001b[0m\u001b[0mi\u001b[0m\u001b[1;33m]\u001b[0m \u001b[1;33m+\u001b[0m \u001b[0mt_i\u001b[0m\u001b[1;33m[\u001b[0m\u001b[0mi\u001b[0m\u001b[1;33m]\u001b[0m\u001b[1;33m]\u001b[0m\u001b[1;33m)\u001b[0m\u001b[1;33m\u001b[0m\u001b[0m\n\u001b[0;32m   1584\u001b[0m \u001b[1;33m\u001b[0m\u001b[0m\n",
      "\u001b[1;31mMemoryError\u001b[0m: "
     ]
    }
   ],
   "source": [
    "split = StratifiedShuffleSplit(n_splits=1, test_size=10000, random_state=42)\n",
    "for train_index, test_index in split.split(df_raw, df_raw.passenger_count):\n",
    "    train_set = df_raw.loc[df_raw.index.intersection(train_index)]\n",
    "    test_set = df_raw.loc[df_raw.index.intersection(test_index)]"
   ]
  },
  {
   "cell_type": "code",
   "execution_count": 26,
   "metadata": {},
   "outputs": [
    {
     "data": {
      "text/plain": [
       "1.0    0.691604\n",
       "2.0    0.147580\n",
       "5.0    0.070881\n",
       "3.0    0.043929\n",
       "4.0    0.021252\n",
       "6.0    0.021182\n",
       "0.0    0.003522\n",
       "Name: passenger_count, dtype: float64"
      ]
     },
     "execution_count": 26,
     "metadata": {},
     "output_type": "execute_result"
    }
   ],
   "source": [
    "train_set.passenger_count.value_counts()/len(train_set)"
   ]
  },
  {
   "cell_type": "code",
   "execution_count": 27,
   "metadata": {
    "scrolled": true
   },
   "outputs": [
    {
     "data": {
      "text/plain": [
       "1    0.6895\n",
       "2    0.1504\n",
       "5    0.0702\n",
       "3    0.0442\n",
       "4    0.0214\n",
       "6    0.0205\n",
       "0    0.0038\n",
       "Name: passenger_count, dtype: float64"
      ]
     },
     "execution_count": 27,
     "metadata": {},
     "output_type": "execute_result"
    }
   ],
   "source": [
    "test_set.passenger_count.value_counts()/len(test_set)"
   ]
  },
  {
   "cell_type": "markdown",
   "metadata": {},
   "source": [
    "## Data Visualization"
   ]
  },
  {
   "cell_type": "code",
   "execution_count": 28,
   "metadata": {},
   "outputs": [],
   "source": [
    "#% matplotlib inline\n",
    "#train_set.plot(kind='scatter', x='pickup_latitude',y='pickup_longitude',alpha=0.1)"
   ]
  },
  {
   "cell_type": "markdown",
   "metadata": {},
   "source": [
    "## Outlier Detection"
   ]
  },
  {
   "cell_type": "code",
   "execution_count": 35,
   "metadata": {},
   "outputs": [
    {
     "name": "stderr",
     "output_type": "stream",
     "text": [
      "C:\\Users\\aksha\\Anaconda3\\envs\\fastai\\lib\\site-packages\\numpy\\lib\\function_base.py:4291: RuntimeWarning: Invalid value encountered in percentile\n",
      "  interpolation=interpolation)\n"
     ]
    }
   ],
   "source": [
    "outliers = []\n",
    "\n",
    "# For each feature find the data points with extreme high or low values\n",
    "for feature in ['longitutde_traversed','latitude_traversed','distance_traversed']:\n",
    "    Q1 = np.percentile(train_set[feature],25,axis=0)\n",
    "    Q3 = np.percentile(train_set[feature],75,axis=0)\n",
    "    step = 1.5*(Q3-Q1)\n",
    "    feature_outlier = train_set[~((train_set[feature] >= Q1 - step) & (train_set[feature] <= Q3 + step))]\n",
    "    outliers += feature_outlier.index.tolist()\n"
   ]
  },
  {
   "cell_type": "code",
   "execution_count": 36,
   "metadata": {},
   "outputs": [
    {
     "data": {
      "text/plain": [
       "3.0"
      ]
     },
     "execution_count": 36,
     "metadata": {},
     "output_type": "execute_result"
    }
   ],
   "source": [
    "len(outliers)/len(train_set)"
   ]
  },
  {
   "cell_type": "code",
   "execution_count": null,
   "metadata": {},
   "outputs": [],
   "source": [
    "df = df_raw.drop(df_raw.index[outliers]).reset_index(drop = True)\n",
    "len(df)"
   ]
  },
  {
   "cell_type": "code",
   "execution_count": null,
   "metadata": {},
   "outputs": [],
   "source": []
  }
 ],
 "metadata": {
  "kernelspec": {
   "display_name": "Python 3",
   "language": "python",
   "name": "python3"
  },
  "language_info": {
   "codemirror_mode": {
    "name": "ipython",
    "version": 3
   },
   "file_extension": ".py",
   "mimetype": "text/x-python",
   "name": "python",
   "nbconvert_exporter": "python",
   "pygments_lexer": "ipython3",
   "version": "3.6.5"
  }
 },
 "nbformat": 4,
 "nbformat_minor": 2
}
